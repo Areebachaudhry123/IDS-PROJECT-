{
 "cells": [
  {
   "cell_type": "markdown",
   "metadata": {},
   "source": [
    "EXPLORATORY DATA ANALYSIS (EDA)"
   ]
  },
  {
   "cell_type": "code",
   "execution_count": 65,
   "metadata": {},
   "outputs": [
    {
     "name": "stdout",
     "output_type": "stream",
     "text": [
      "Index(['Age', 'Weight (in Kg)', 'Height', ' blood group',\n",
      "       'MenstrualCycleRegularity', 'RecentWeightChange', 'Hirsutism',\n",
      "       'SkinDarkening', 'HairLoss', 'Acne', 'FastFoodConsumption',\n",
      "       'ExerciseRegularity', 'PCOS', 'MoodSwings', 'PeriodDuration'],\n",
      "      dtype='object')\n"
     ]
    }
   ],
   "source": [
    "import streamlit as st\n",
    "import pandas as pd\n",
    "import seaborn as sns\n",
    "import matplotlib.pyplot as plt\n",
    "\n",
    "df = pd.read_csv(\"C:\\\\Users\\\\hp\\\\Desktop\\\\IDS PROJECT\\\\CLEAN- PCOS SURVEY SPREADSHEET.csv\")\n",
    "df.head()\n",
    "print(df.columns)\n",
    "\n"
   ]
  },
  {
   "cell_type": "code",
   "execution_count": 66,
   "metadata": {},
   "outputs": [
    {
     "name": "stdout",
     "output_type": "stream",
     "text": [
      "<class 'pandas.core.frame.DataFrame'>\n",
      "RangeIndex: 465 entries, 0 to 464\n",
      "Data columns (total 15 columns):\n",
      " #   Column                    Non-Null Count  Dtype  \n",
      "---  ------                    --------------  -----  \n",
      " 0   Age                       465 non-null    int64  \n",
      " 1   Weight (in Kg)            465 non-null    float64\n",
      " 2   Height                    465 non-null    float64\n",
      " 3    blood group              465 non-null    int64  \n",
      " 4   MenstrualCycleRegularity  465 non-null    int64  \n",
      " 5   RecentWeightChange        465 non-null    int64  \n",
      " 6   Hirsutism                 465 non-null    int64  \n",
      " 7   SkinDarkening             465 non-null    int64  \n",
      " 8   HairLoss                  465 non-null    int64  \n",
      " 9   Acne                      465 non-null    int64  \n",
      " 10  FastFoodConsumption       465 non-null    int64  \n",
      " 11  ExerciseRegularity        465 non-null    int64  \n",
      " 12  PCOS                      465 non-null    int64  \n",
      " 13  MoodSwings                465 non-null    int64  \n",
      " 14  PeriodDuration            465 non-null    int64  \n",
      "dtypes: float64(2), int64(13)\n",
      "memory usage: 54.6 KB\n"
     ]
    }
   ],
   "source": [
    "df.info()"
   ]
  },
  {
   "cell_type": "code",
   "execution_count": 67,
   "metadata": {},
   "outputs": [
    {
     "data": {
      "text/html": [
       "<div>\n",
       "<style scoped>\n",
       "    .dataframe tbody tr th:only-of-type {\n",
       "        vertical-align: middle;\n",
       "    }\n",
       "\n",
       "    .dataframe tbody tr th {\n",
       "        vertical-align: top;\n",
       "    }\n",
       "\n",
       "    .dataframe thead th {\n",
       "        text-align: right;\n",
       "    }\n",
       "</style>\n",
       "<table border=\"1\" class=\"dataframe\">\n",
       "  <thead>\n",
       "    <tr style=\"text-align: right;\">\n",
       "      <th></th>\n",
       "      <th>Age</th>\n",
       "      <th>Weight (in Kg)</th>\n",
       "      <th>Height</th>\n",
       "      <th>blood group</th>\n",
       "      <th>MenstrualCycleRegularity</th>\n",
       "      <th>RecentWeightChange</th>\n",
       "      <th>Hirsutism</th>\n",
       "      <th>SkinDarkening</th>\n",
       "      <th>HairLoss</th>\n",
       "      <th>Acne</th>\n",
       "      <th>FastFoodConsumption</th>\n",
       "      <th>ExerciseRegularity</th>\n",
       "      <th>PCOS</th>\n",
       "      <th>MoodSwings</th>\n",
       "      <th>PeriodDuration</th>\n",
       "    </tr>\n",
       "  </thead>\n",
       "  <tbody>\n",
       "    <tr>\n",
       "      <th>count</th>\n",
       "      <td>465.000000</td>\n",
       "      <td>465.000000</td>\n",
       "      <td>465.000000</td>\n",
       "      <td>465.000000</td>\n",
       "      <td>465.000000</td>\n",
       "      <td>465.000000</td>\n",
       "      <td>465.000000</td>\n",
       "      <td>465.000000</td>\n",
       "      <td>465.000000</td>\n",
       "      <td>465.000000</td>\n",
       "      <td>465.000000</td>\n",
       "      <td>465.000000</td>\n",
       "      <td>465.000000</td>\n",
       "      <td>465.000000</td>\n",
       "      <td>465.000000</td>\n",
       "    </tr>\n",
       "    <tr>\n",
       "      <th>mean</th>\n",
       "      <td>25.455914</td>\n",
       "      <td>59.286667</td>\n",
       "      <td>157.916473</td>\n",
       "      <td>13.262366</td>\n",
       "      <td>1.221505</td>\n",
       "      <td>0.501075</td>\n",
       "      <td>0.264516</td>\n",
       "      <td>0.337634</td>\n",
       "      <td>0.619355</td>\n",
       "      <td>0.412903</td>\n",
       "      <td>0.359140</td>\n",
       "      <td>0.286022</td>\n",
       "      <td>0.219355</td>\n",
       "      <td>0.761290</td>\n",
       "      <td>4.600000</td>\n",
       "    </tr>\n",
       "    <tr>\n",
       "      <th>std</th>\n",
       "      <td>8.099775</td>\n",
       "      <td>11.137046</td>\n",
       "      <td>14.933218</td>\n",
       "      <td>1.499994</td>\n",
       "      <td>0.541758</td>\n",
       "      <td>0.500537</td>\n",
       "      <td>0.441550</td>\n",
       "      <td>0.473412</td>\n",
       "      <td>0.486068</td>\n",
       "      <td>0.492886</td>\n",
       "      <td>0.480265</td>\n",
       "      <td>0.452386</td>\n",
       "      <td>0.414255</td>\n",
       "      <td>0.426754</td>\n",
       "      <td>1.536622</td>\n",
       "    </tr>\n",
       "    <tr>\n",
       "      <th>min</th>\n",
       "      <td>13.000000</td>\n",
       "      <td>33.000000</td>\n",
       "      <td>4.000000</td>\n",
       "      <td>11.000000</td>\n",
       "      <td>1.000000</td>\n",
       "      <td>0.000000</td>\n",
       "      <td>0.000000</td>\n",
       "      <td>0.000000</td>\n",
       "      <td>0.000000</td>\n",
       "      <td>0.000000</td>\n",
       "      <td>0.000000</td>\n",
       "      <td>0.000000</td>\n",
       "      <td>0.000000</td>\n",
       "      <td>0.000000</td>\n",
       "      <td>0.000000</td>\n",
       "    </tr>\n",
       "    <tr>\n",
       "      <th>25%</th>\n",
       "      <td>20.000000</td>\n",
       "      <td>51.000000</td>\n",
       "      <td>154.000000</td>\n",
       "      <td>13.000000</td>\n",
       "      <td>1.000000</td>\n",
       "      <td>0.000000</td>\n",
       "      <td>0.000000</td>\n",
       "      <td>0.000000</td>\n",
       "      <td>0.000000</td>\n",
       "      <td>0.000000</td>\n",
       "      <td>0.000000</td>\n",
       "      <td>0.000000</td>\n",
       "      <td>0.000000</td>\n",
       "      <td>1.000000</td>\n",
       "      <td>4.000000</td>\n",
       "    </tr>\n",
       "    <tr>\n",
       "      <th>50%</th>\n",
       "      <td>22.000000</td>\n",
       "      <td>58.000000</td>\n",
       "      <td>160.000000</td>\n",
       "      <td>13.000000</td>\n",
       "      <td>1.000000</td>\n",
       "      <td>1.000000</td>\n",
       "      <td>0.000000</td>\n",
       "      <td>0.000000</td>\n",
       "      <td>1.000000</td>\n",
       "      <td>0.000000</td>\n",
       "      <td>0.000000</td>\n",
       "      <td>0.000000</td>\n",
       "      <td>0.000000</td>\n",
       "      <td>1.000000</td>\n",
       "      <td>5.000000</td>\n",
       "    </tr>\n",
       "    <tr>\n",
       "      <th>75%</th>\n",
       "      <td>28.000000</td>\n",
       "      <td>65.000000</td>\n",
       "      <td>164.000000</td>\n",
       "      <td>15.000000</td>\n",
       "      <td>1.000000</td>\n",
       "      <td>1.000000</td>\n",
       "      <td>1.000000</td>\n",
       "      <td>1.000000</td>\n",
       "      <td>1.000000</td>\n",
       "      <td>1.000000</td>\n",
       "      <td>1.000000</td>\n",
       "      <td>1.000000</td>\n",
       "      <td>0.000000</td>\n",
       "      <td>1.000000</td>\n",
       "      <td>5.000000</td>\n",
       "    </tr>\n",
       "    <tr>\n",
       "      <th>max</th>\n",
       "      <td>58.000000</td>\n",
       "      <td>100.000000</td>\n",
       "      <td>186.000000</td>\n",
       "      <td>16.000000</td>\n",
       "      <td>3.000000</td>\n",
       "      <td>1.000000</td>\n",
       "      <td>1.000000</td>\n",
       "      <td>1.000000</td>\n",
       "      <td>1.000000</td>\n",
       "      <td>1.000000</td>\n",
       "      <td>1.000000</td>\n",
       "      <td>1.000000</td>\n",
       "      <td>1.000000</td>\n",
       "      <td>1.000000</td>\n",
       "      <td>15.000000</td>\n",
       "    </tr>\n",
       "  </tbody>\n",
       "</table>\n",
       "</div>"
      ],
      "text/plain": [
       "              Age  Weight (in Kg)      Height   blood group  \\\n",
       "count  465.000000      465.000000  465.000000    465.000000   \n",
       "mean    25.455914       59.286667  157.916473     13.262366   \n",
       "std      8.099775       11.137046   14.933218      1.499994   \n",
       "min     13.000000       33.000000    4.000000     11.000000   \n",
       "25%     20.000000       51.000000  154.000000     13.000000   \n",
       "50%     22.000000       58.000000  160.000000     13.000000   \n",
       "75%     28.000000       65.000000  164.000000     15.000000   \n",
       "max     58.000000      100.000000  186.000000     16.000000   \n",
       "\n",
       "       MenstrualCycleRegularity  RecentWeightChange   Hirsutism  \\\n",
       "count                465.000000          465.000000  465.000000   \n",
       "mean                   1.221505            0.501075    0.264516   \n",
       "std                    0.541758            0.500537    0.441550   \n",
       "min                    1.000000            0.000000    0.000000   \n",
       "25%                    1.000000            0.000000    0.000000   \n",
       "50%                    1.000000            1.000000    0.000000   \n",
       "75%                    1.000000            1.000000    1.000000   \n",
       "max                    3.000000            1.000000    1.000000   \n",
       "\n",
       "       SkinDarkening    HairLoss        Acne  FastFoodConsumption  \\\n",
       "count     465.000000  465.000000  465.000000           465.000000   \n",
       "mean        0.337634    0.619355    0.412903             0.359140   \n",
       "std         0.473412    0.486068    0.492886             0.480265   \n",
       "min         0.000000    0.000000    0.000000             0.000000   \n",
       "25%         0.000000    0.000000    0.000000             0.000000   \n",
       "50%         0.000000    1.000000    0.000000             0.000000   \n",
       "75%         1.000000    1.000000    1.000000             1.000000   \n",
       "max         1.000000    1.000000    1.000000             1.000000   \n",
       "\n",
       "       ExerciseRegularity        PCOS  MoodSwings  PeriodDuration  \n",
       "count          465.000000  465.000000  465.000000      465.000000  \n",
       "mean             0.286022    0.219355    0.761290        4.600000  \n",
       "std              0.452386    0.414255    0.426754        1.536622  \n",
       "min              0.000000    0.000000    0.000000        0.000000  \n",
       "25%              0.000000    0.000000    1.000000        4.000000  \n",
       "50%              0.000000    0.000000    1.000000        5.000000  \n",
       "75%              1.000000    0.000000    1.000000        5.000000  \n",
       "max              1.000000    1.000000    1.000000       15.000000  "
      ]
     },
     "execution_count": 67,
     "metadata": {},
     "output_type": "execute_result"
    }
   ],
   "source": [
    "\n",
    "df.describe()\n"
   ]
  },
  {
   "cell_type": "code",
   "execution_count": 68,
   "metadata": {},
   "outputs": [
    {
     "name": "stdout",
     "output_type": "stream",
     "text": [
      "<class 'pandas.core.frame.DataFrame'>\n",
      "RangeIndex: 465 entries, 0 to 464\n",
      "Data columns (total 15 columns):\n",
      " #   Column                    Non-Null Count  Dtype   \n",
      "---  ------                    --------------  -----   \n",
      " 0   Age                       465 non-null    int64   \n",
      " 1   Weight (in Kg)            465 non-null    float64 \n",
      " 2   Height                    465 non-null    float64 \n",
      " 3    blood group              465 non-null    category\n",
      " 4   MenstrualCycleRegularity  465 non-null    category\n",
      " 5   RecentWeightChange        465 non-null    category\n",
      " 6   Hirsutism                 465 non-null    category\n",
      " 7   SkinDarkening             465 non-null    category\n",
      " 8   HairLoss                  465 non-null    category\n",
      " 9   Acne                      465 non-null    category\n",
      " 10  FastFoodConsumption       465 non-null    category\n",
      " 11  ExerciseRegularity        465 non-null    category\n",
      " 12  PCOS                      465 non-null    category\n",
      " 13  MoodSwings                465 non-null    category\n",
      " 14  PeriodDuration            465 non-null    int64   \n",
      "dtypes: category(11), float64(2), int64(2)\n",
      "memory usage: 21.1 KB\n"
     ]
    }
   ],
   "source": [
    "# Convert the relevant columns to categorical\n",
    "df[' blood group'] = df[' blood group'].astype('category')\n",
    "df['MenstrualCycleRegularity'] = df['MenstrualCycleRegularity'].astype('category')\n",
    "df['RecentWeightChange'] = df['RecentWeightChange'].astype('category')\n",
    "df['Hirsutism'] = df['Hirsutism'].astype('category')\n",
    "df['SkinDarkening'] = df['SkinDarkening'].astype('category')\n",
    "df['HairLoss'] = df['HairLoss'].astype('category')\n",
    "df['Acne'] = df['Acne'].astype('category')\n",
    "df['FastFoodConsumption'] = df['FastFoodConsumption'].astype('category')\n",
    "df['ExerciseRegularity'] = df['ExerciseRegularity'].astype('category')\n",
    "df['PCOS'] = df['PCOS'].astype('category')\n",
    "df['MoodSwings'] = df['MoodSwings'].astype('category')\n",
    "df.info()\n"
   ]
  },
  {
   "cell_type": "code",
   "execution_count": 69,
   "metadata": {},
   "outputs": [
    {
     "data": {
      "application/vnd.plotly.v1+json": {
       "config": {
        "plotlyServerURL": "https://plot.ly"
       },
       "data": [
        {
         "alignmentgroup": "True",
         "bingroup": "x",
         "hovertemplate": "Age=%{x}<br>count=%{y}<extra></extra>",
         "legendgroup": "",
         "marker": {
          "color": "yellow",
          "pattern": {
           "shape": ""
          }
         },
         "name": "",
         "nbinsx": 20,
         "offsetgroup": "",
         "orientation": "v",
         "showlegend": false,
         "type": "histogram",
         "x": [
          21,
          21,
          17,
          28,
          45,
          16,
          20,
          21,
          40,
          38,
          45,
          38,
          21,
          34,
          27,
          21,
          20,
          18,
          22,
          21,
          42,
          26,
          45,
          41,
          35,
          21,
          24,
          26,
          21,
          27,
          21,
          46,
          27,
          26,
          21,
          42,
          44,
          52,
          29,
          21,
          20,
          17,
          31,
          39,
          21,
          38,
          21,
          24,
          30,
          47,
          43,
          25,
          36,
          26,
          21,
          42,
          22,
          22,
          20,
          21,
          21,
          16,
          20,
          21,
          33,
          20,
          18,
          18,
          20,
          19,
          45,
          42,
          22,
          23,
          30,
          25,
          23,
          20,
          37,
          20,
          47,
          17,
          21,
          23,
          45,
          46,
          28,
          37,
          18,
          20,
          58,
          39,
          20,
          34,
          19,
          30,
          45,
          37,
          37,
          15,
          19,
          20,
          19,
          20,
          19,
          20,
          19,
          31,
          21,
          28,
          29,
          20,
          21,
          23,
          20,
          19,
          30,
          18,
          24,
          26,
          25,
          27,
          35,
          21,
          21,
          54,
          22,
          43,
          19,
          19,
          23,
          17,
          14,
          18,
          22,
          22,
          27,
          30,
          26,
          26,
          22,
          19,
          27,
          19,
          25,
          50,
          22,
          23,
          45,
          19,
          32,
          29,
          23,
          30,
          18,
          21,
          21,
          22,
          20,
          51,
          20,
          20,
          21,
          20,
          37,
          21,
          21,
          20,
          20,
          21,
          47,
          21,
          21,
          21,
          20,
          23,
          22,
          21,
          19,
          20,
          20,
          21,
          21,
          27,
          22,
          22,
          21,
          17,
          20,
          21,
          20,
          21,
          43,
          21,
          21,
          20,
          20,
          40,
          35,
          34,
          39,
          39,
          38,
          42,
          29,
          25,
          33,
          40,
          28,
          20,
          23,
          25,
          24,
          16,
          34,
          32,
          38,
          23,
          21,
          21,
          26,
          19,
          22,
          21,
          20,
          23,
          24,
          25,
          25,
          22,
          20,
          22,
          21,
          20,
          19,
          20,
          22,
          20,
          34,
          32,
          36,
          25,
          30,
          32,
          42,
          26,
          27,
          20,
          26,
          24,
          26,
          20,
          38,
          43,
          32,
          30,
          21,
          20,
          19,
          25,
          23,
          16,
          16,
          29,
          22,
          27,
          26,
          21,
          24,
          24,
          26,
          23,
          23,
          26,
          26,
          21,
          25,
          27,
          19,
          25,
          27,
          25,
          23,
          27,
          23,
          24,
          24,
          18,
          20,
          18,
          20,
          19,
          15,
          17,
          17,
          19,
          25,
          38,
          36,
          18,
          48,
          22,
          25,
          18,
          13,
          30,
          25,
          47,
          19,
          22,
          16,
          25,
          21,
          18,
          28,
          27,
          23,
          32,
          19,
          21,
          24,
          23,
          23,
          19,
          18,
          20,
          23,
          22,
          22,
          18,
          24,
          21,
          20,
          19,
          17,
          18,
          17,
          24,
          27,
          27,
          28,
          19,
          25,
          38,
          25,
          24,
          25,
          45,
          20,
          16,
          21,
          27,
          48,
          16,
          18,
          25,
          17,
          17,
          19,
          19,
          23,
          23,
          19,
          17,
          36,
          19,
          23,
          21,
          35,
          19,
          16,
          24,
          18,
          21,
          21,
          28,
          25,
          24,
          24,
          25,
          18,
          22,
          21,
          23,
          25,
          25,
          25,
          23,
          37,
          19,
          25,
          42,
          20,
          24,
          19,
          21,
          21,
          21,
          21,
          21,
          22,
          37,
          21,
          20,
          20,
          21,
          20,
          28,
          21,
          20,
          19,
          40,
          21,
          21,
          20,
          20,
          20,
          20,
          30,
          23,
          48,
          22,
          24,
          23,
          30,
          26,
          37,
          34,
          21,
          35,
          30,
          33,
          29,
          29,
          29,
          27,
          23,
          25,
          21,
          25,
          41,
          24,
          23,
          30,
          40,
          19,
          22,
          17,
          39,
          20,
          21,
          20,
          19,
          21,
          21,
          21,
          40,
          36,
          20,
          23,
          20,
          26,
          18,
          18,
          17
         ],
         "xaxis": "x",
         "yaxis": "y"
        }
       ],
       "layout": {
        "barmode": "relative",
        "height": 400,
        "legend": {
         "tracegroupgap": 0
        },
        "template": {
         "data": {
          "candlestick": [
           {
            "decreasing": {
             "line": {
              "color": "#000033"
             }
            },
            "increasing": {
             "line": {
              "color": "#000032"
             }
            },
            "type": "candlestick"
           }
          ],
          "contour": [
           {
            "colorscale": [
             [
              0,
              "#000011"
             ],
             [
              0.1111111111111111,
              "#000012"
             ],
             [
              0.2222222222222222,
              "#000013"
             ],
             [
              0.3333333333333333,
              "#000014"
             ],
             [
              0.4444444444444444,
              "#000015"
             ],
             [
              0.5555555555555556,
              "#000016"
             ],
             [
              0.6666666666666666,
              "#000017"
             ],
             [
              0.7777777777777778,
              "#000018"
             ],
             [
              0.8888888888888888,
              "#000019"
             ],
             [
              1,
              "#000020"
             ]
            ],
            "type": "contour"
           }
          ],
          "contourcarpet": [
           {
            "colorscale": [
             [
              0,
              "#000011"
             ],
             [
              0.1111111111111111,
              "#000012"
             ],
             [
              0.2222222222222222,
              "#000013"
             ],
             [
              0.3333333333333333,
              "#000014"
             ],
             [
              0.4444444444444444,
              "#000015"
             ],
             [
              0.5555555555555556,
              "#000016"
             ],
             [
              0.6666666666666666,
              "#000017"
             ],
             [
              0.7777777777777778,
              "#000018"
             ],
             [
              0.8888888888888888,
              "#000019"
             ],
             [
              1,
              "#000020"
             ]
            ],
            "type": "contourcarpet"
           }
          ],
          "heatmap": [
           {
            "colorscale": [
             [
              0,
              "#000011"
             ],
             [
              0.1111111111111111,
              "#000012"
             ],
             [
              0.2222222222222222,
              "#000013"
             ],
             [
              0.3333333333333333,
              "#000014"
             ],
             [
              0.4444444444444444,
              "#000015"
             ],
             [
              0.5555555555555556,
              "#000016"
             ],
             [
              0.6666666666666666,
              "#000017"
             ],
             [
              0.7777777777777778,
              "#000018"
             ],
             [
              0.8888888888888888,
              "#000019"
             ],
             [
              1,
              "#000020"
             ]
            ],
            "type": "heatmap"
           }
          ],
          "histogram2d": [
           {
            "colorscale": [
             [
              0,
              "#000011"
             ],
             [
              0.1111111111111111,
              "#000012"
             ],
             [
              0.2222222222222222,
              "#000013"
             ],
             [
              0.3333333333333333,
              "#000014"
             ],
             [
              0.4444444444444444,
              "#000015"
             ],
             [
              0.5555555555555556,
              "#000016"
             ],
             [
              0.6666666666666666,
              "#000017"
             ],
             [
              0.7777777777777778,
              "#000018"
             ],
             [
              0.8888888888888888,
              "#000019"
             ],
             [
              1,
              "#000020"
             ]
            ],
            "type": "histogram2d"
           }
          ],
          "icicle": [
           {
            "textfont": {
             "color": "white"
            },
            "type": "icicle"
           }
          ],
          "sankey": [
           {
            "textfont": {
             "color": "#000036"
            },
            "type": "sankey"
           }
          ],
          "scatter": [
           {
            "marker": {
             "line": {
              "width": 0
             }
            },
            "type": "scatter"
           }
          ],
          "table": [
           {
            "cells": {
             "fill": {
              "color": "#000038"
             },
             "font": {
              "color": "#000037"
             },
             "line": {
              "color": "#000039"
             }
            },
            "header": {
             "fill": {
              "color": "#000040"
             },
             "font": {
              "color": "#000036"
             },
             "line": {
              "color": "#000039"
             }
            },
            "type": "table"
           }
          ],
          "waterfall": [
           {
            "connector": {
             "line": {
              "color": "#000036",
              "width": 2
             }
            },
            "decreasing": {
             "marker": {
              "color": "#000033"
             }
            },
            "increasing": {
             "marker": {
              "color": "#000032"
             }
            },
            "totals": {
             "marker": {
              "color": "#000034"
             }
            },
            "type": "waterfall"
           }
          ]
         },
         "layout": {
          "coloraxis": {
           "colorscale": [
            [
             0,
             "#000011"
            ],
            [
             0.1111111111111111,
             "#000012"
            ],
            [
             0.2222222222222222,
             "#000013"
            ],
            [
             0.3333333333333333,
             "#000014"
            ],
            [
             0.4444444444444444,
             "#000015"
            ],
            [
             0.5555555555555556,
             "#000016"
            ],
            [
             0.6666666666666666,
             "#000017"
            ],
            [
             0.7777777777777778,
             "#000018"
            ],
            [
             0.8888888888888888,
             "#000019"
            ],
            [
             1,
             "#000020"
            ]
           ]
          },
          "colorscale": {
           "diverging": [
            [
             0,
             "#000021"
            ],
            [
             0.1,
             "#000022"
            ],
            [
             0.2,
             "#000023"
            ],
            [
             0.3,
             "#000024"
            ],
            [
             0.4,
             "#000025"
            ],
            [
             0.5,
             "#000026"
            ],
            [
             0.6,
             "#000027"
            ],
            [
             0.7,
             "#000028"
            ],
            [
             0.8,
             "#000029"
            ],
            [
             0.9,
             "#000030"
            ],
            [
             1,
             "#000031"
            ]
           ],
           "sequential": [
            [
             0,
             "#000011"
            ],
            [
             0.1111111111111111,
             "#000012"
            ],
            [
             0.2222222222222222,
             "#000013"
            ],
            [
             0.3333333333333333,
             "#000014"
            ],
            [
             0.4444444444444444,
             "#000015"
            ],
            [
             0.5555555555555556,
             "#000016"
            ],
            [
             0.6666666666666666,
             "#000017"
            ],
            [
             0.7777777777777778,
             "#000018"
            ],
            [
             0.8888888888888888,
             "#000019"
            ],
            [
             1,
             "#000020"
            ]
           ],
           "sequentialminus": [
            [
             0,
             "#000011"
            ],
            [
             0.1111111111111111,
             "#000012"
            ],
            [
             0.2222222222222222,
             "#000013"
            ],
            [
             0.3333333333333333,
             "#000014"
            ],
            [
             0.4444444444444444,
             "#000015"
            ],
            [
             0.5555555555555556,
             "#000016"
            ],
            [
             0.6666666666666666,
             "#000017"
            ],
            [
             0.7777777777777778,
             "#000018"
            ],
            [
             0.8888888888888888,
             "#000019"
            ],
            [
             1,
             "#000020"
            ]
           ]
          },
          "colorway": [
           "#000001",
           "#000002",
           "#000003",
           "#000004",
           "#000005",
           "#000006",
           "#000007",
           "#000008",
           "#000009",
           "#000010"
          ]
         }
        },
        "title": {
         "text": "Age Distribution"
        },
        "width": 500,
        "xaxis": {
         "anchor": "y",
         "domain": [
          0,
          1
         ],
         "title": {
          "text": "Age"
         }
        },
        "yaxis": {
         "anchor": "x",
         "domain": [
          0,
          1
         ],
         "title": {
          "text": "Frequency"
         }
        }
       }
      }
     },
     "metadata": {},
     "output_type": "display_data"
    },
    {
     "data": {
      "application/vnd.plotly.v1+json": {
       "config": {
        "plotlyServerURL": "https://plot.ly"
       },
       "data": [
        {
         "alignmentgroup": "True",
         "bingroup": "x",
         "hovertemplate": "Weight (in Kg)=%{x}<br>count=%{y}<extra></extra>",
         "legendgroup": "",
         "marker": {
          "color": "green",
          "pattern": {
           "shape": ""
          }
         },
         "name": "",
         "nbinsx": 20,
         "offsetgroup": "",
         "orientation": "v",
         "showlegend": false,
         "type": "histogram",
         "x": [
          47,
          45,
          37,
          54,
          40,
          70,
          48,
          55,
          68,
          62,
          58,
          64,
          42,
          60,
          52,
          67,
          48,
          55,
          75,
          47,
          63,
          53,
          65,
          60,
          70,
          52,
          49,
          69,
          57,
          52,
          64,
          69,
          56,
          64,
          47,
          75,
          65,
          70,
          54,
          55,
          52,
          40,
          62,
          63,
          60,
          56,
          55.5,
          87,
          65,
          62,
          89,
          81,
          59,
          53,
          55,
          75,
          52,
          47,
          73,
          48,
          45,
          70,
          70,
          58,
          63,
          44,
          52,
          45,
          47,
          48,
          58,
          50,
          54,
          49,
          56,
          58,
          50,
          65,
          64,
          71,
          67,
          53,
          58,
          65,
          90,
          54,
          56,
          68,
          58,
          54,
          50,
          70,
          55,
          60,
          48,
          50,
          60,
          52,
          66,
          62,
          43,
          50,
          46,
          68,
          58,
          75,
          47,
          65,
          52,
          68.5,
          65,
          50,
          65,
          65,
          55,
          75,
          85,
          52,
          75,
          55,
          54,
          55,
          64,
          86,
          60,
          62,
          60,
          65,
          50,
          65,
          68,
          39,
          44,
          50,
          65,
          54,
          49,
          60,
          39,
          75,
          56,
          69,
          68,
          54,
          62,
          44,
          54,
          51,
          68,
          63,
          65,
          68,
          40,
          52,
          50,
          55,
          50,
          67,
          57,
          54,
          50,
          50,
          52,
          45,
          57,
          50,
          67,
          50,
          48,
          44,
          58,
          60,
          58,
          56,
          72,
          64,
          60,
          61,
          45,
          53,
          55,
          78,
          58,
          58,
          59,
          85,
          65,
          62,
          58,
          75,
          76,
          58,
          62,
          69,
          33,
          63,
          42,
          52,
          61,
          63,
          57,
          50,
          52,
          67,
          83,
          70,
          65,
          68,
          58,
          68,
          56,
          58,
          69,
          45,
          82,
          60,
          65,
          55,
          58,
          58,
          68,
          48,
          47,
          47,
          42,
          59,
          40,
          43,
          41,
          59,
          47,
          54,
          49.8,
          62,
          63,
          60,
          54,
          62,
          69,
          62,
          60,
          64,
          48,
          70,
          74,
          65,
          52,
          52,
          46,
          50,
          65,
          70,
          87,
          85,
          86,
          52,
          50,
          45,
          89,
          66,
          50,
          60,
          40,
          55,
          49,
          60,
          70,
          65.5,
          74,
          60,
          80,
          48,
          54,
          60,
          75,
          65,
          57,
          56,
          55,
          50,
          65,
          56,
          78,
          56,
          59,
          75,
          75,
          74,
          75,
          66,
          74,
          51,
          55,
          55,
          66,
          60,
          58,
          54,
          65,
          45,
          40,
          46,
          51,
          60,
          50,
          48,
          78,
          66,
          50,
          57,
          51,
          65,
          68,
          65,
          45,
          54,
          74,
          67,
          54.5,
          64,
          61,
          80,
          55,
          50,
          48,
          58,
          83,
          69,
          45,
          65,
          60,
          45,
          46,
          49,
          48,
          50,
          55,
          100,
          54,
          51,
          55,
          61,
          65,
          63,
          90,
          60,
          50,
          63,
          50,
          61,
          47,
          90,
          57,
          36,
          53,
          66,
          60,
          75,
          49,
          53,
          45,
          62,
          53.5,
          52,
          75,
          53,
          49,
          60,
          75,
          53,
          54,
          84,
          47,
          56,
          60,
          59,
          80,
          60,
          55,
          80,
          44,
          77,
          80,
          48,
          88,
          54,
          65,
          45,
          68,
          51,
          65,
          70,
          57,
          58,
          65,
          58,
          46,
          84,
          54,
          60,
          72,
          45,
          50,
          54,
          58,
          54,
          50,
          59,
          48,
          56,
          53,
          72,
          62,
          48,
          51,
          53,
          42,
          48,
          35,
          55,
          78,
          59,
          65,
          51,
          65,
          65,
          73,
          60,
          50,
          50,
          74,
          62,
          64,
          60,
          70,
          39,
          78,
          55,
          40,
          65,
          59,
          55,
          76,
          56,
          68,
          85,
          48,
          67,
          64,
          70,
          47,
          56,
          75,
          67,
          56,
          52,
          73,
          70,
          45,
          65,
          80,
          62,
          63,
          47,
          45
         ],
         "xaxis": "x",
         "yaxis": "y"
        }
       ],
       "layout": {
        "barmode": "relative",
        "height": 400,
        "legend": {
         "tracegroupgap": 0
        },
        "template": {
         "data": {
          "candlestick": [
           {
            "decreasing": {
             "line": {
              "color": "#000033"
             }
            },
            "increasing": {
             "line": {
              "color": "#000032"
             }
            },
            "type": "candlestick"
           }
          ],
          "contour": [
           {
            "colorscale": [
             [
              0,
              "#000011"
             ],
             [
              0.1111111111111111,
              "#000012"
             ],
             [
              0.2222222222222222,
              "#000013"
             ],
             [
              0.3333333333333333,
              "#000014"
             ],
             [
              0.4444444444444444,
              "#000015"
             ],
             [
              0.5555555555555556,
              "#000016"
             ],
             [
              0.6666666666666666,
              "#000017"
             ],
             [
              0.7777777777777778,
              "#000018"
             ],
             [
              0.8888888888888888,
              "#000019"
             ],
             [
              1,
              "#000020"
             ]
            ],
            "type": "contour"
           }
          ],
          "contourcarpet": [
           {
            "colorscale": [
             [
              0,
              "#000011"
             ],
             [
              0.1111111111111111,
              "#000012"
             ],
             [
              0.2222222222222222,
              "#000013"
             ],
             [
              0.3333333333333333,
              "#000014"
             ],
             [
              0.4444444444444444,
              "#000015"
             ],
             [
              0.5555555555555556,
              "#000016"
             ],
             [
              0.6666666666666666,
              "#000017"
             ],
             [
              0.7777777777777778,
              "#000018"
             ],
             [
              0.8888888888888888,
              "#000019"
             ],
             [
              1,
              "#000020"
             ]
            ],
            "type": "contourcarpet"
           }
          ],
          "heatmap": [
           {
            "colorscale": [
             [
              0,
              "#000011"
             ],
             [
              0.1111111111111111,
              "#000012"
             ],
             [
              0.2222222222222222,
              "#000013"
             ],
             [
              0.3333333333333333,
              "#000014"
             ],
             [
              0.4444444444444444,
              "#000015"
             ],
             [
              0.5555555555555556,
              "#000016"
             ],
             [
              0.6666666666666666,
              "#000017"
             ],
             [
              0.7777777777777778,
              "#000018"
             ],
             [
              0.8888888888888888,
              "#000019"
             ],
             [
              1,
              "#000020"
             ]
            ],
            "type": "heatmap"
           }
          ],
          "histogram2d": [
           {
            "colorscale": [
             [
              0,
              "#000011"
             ],
             [
              0.1111111111111111,
              "#000012"
             ],
             [
              0.2222222222222222,
              "#000013"
             ],
             [
              0.3333333333333333,
              "#000014"
             ],
             [
              0.4444444444444444,
              "#000015"
             ],
             [
              0.5555555555555556,
              "#000016"
             ],
             [
              0.6666666666666666,
              "#000017"
             ],
             [
              0.7777777777777778,
              "#000018"
             ],
             [
              0.8888888888888888,
              "#000019"
             ],
             [
              1,
              "#000020"
             ]
            ],
            "type": "histogram2d"
           }
          ],
          "icicle": [
           {
            "textfont": {
             "color": "white"
            },
            "type": "icicle"
           }
          ],
          "sankey": [
           {
            "textfont": {
             "color": "#000036"
            },
            "type": "sankey"
           }
          ],
          "scatter": [
           {
            "marker": {
             "line": {
              "width": 0
             }
            },
            "type": "scatter"
           }
          ],
          "table": [
           {
            "cells": {
             "fill": {
              "color": "#000038"
             },
             "font": {
              "color": "#000037"
             },
             "line": {
              "color": "#000039"
             }
            },
            "header": {
             "fill": {
              "color": "#000040"
             },
             "font": {
              "color": "#000036"
             },
             "line": {
              "color": "#000039"
             }
            },
            "type": "table"
           }
          ],
          "waterfall": [
           {
            "connector": {
             "line": {
              "color": "#000036",
              "width": 2
             }
            },
            "decreasing": {
             "marker": {
              "color": "#000033"
             }
            },
            "increasing": {
             "marker": {
              "color": "#000032"
             }
            },
            "totals": {
             "marker": {
              "color": "#000034"
             }
            },
            "type": "waterfall"
           }
          ]
         },
         "layout": {
          "coloraxis": {
           "colorscale": [
            [
             0,
             "#000011"
            ],
            [
             0.1111111111111111,
             "#000012"
            ],
            [
             0.2222222222222222,
             "#000013"
            ],
            [
             0.3333333333333333,
             "#000014"
            ],
            [
             0.4444444444444444,
             "#000015"
            ],
            [
             0.5555555555555556,
             "#000016"
            ],
            [
             0.6666666666666666,
             "#000017"
            ],
            [
             0.7777777777777778,
             "#000018"
            ],
            [
             0.8888888888888888,
             "#000019"
            ],
            [
             1,
             "#000020"
            ]
           ]
          },
          "colorscale": {
           "diverging": [
            [
             0,
             "#000021"
            ],
            [
             0.1,
             "#000022"
            ],
            [
             0.2,
             "#000023"
            ],
            [
             0.3,
             "#000024"
            ],
            [
             0.4,
             "#000025"
            ],
            [
             0.5,
             "#000026"
            ],
            [
             0.6,
             "#000027"
            ],
            [
             0.7,
             "#000028"
            ],
            [
             0.8,
             "#000029"
            ],
            [
             0.9,
             "#000030"
            ],
            [
             1,
             "#000031"
            ]
           ],
           "sequential": [
            [
             0,
             "#000011"
            ],
            [
             0.1111111111111111,
             "#000012"
            ],
            [
             0.2222222222222222,
             "#000013"
            ],
            [
             0.3333333333333333,
             "#000014"
            ],
            [
             0.4444444444444444,
             "#000015"
            ],
            [
             0.5555555555555556,
             "#000016"
            ],
            [
             0.6666666666666666,
             "#000017"
            ],
            [
             0.7777777777777778,
             "#000018"
            ],
            [
             0.8888888888888888,
             "#000019"
            ],
            [
             1,
             "#000020"
            ]
           ],
           "sequentialminus": [
            [
             0,
             "#000011"
            ],
            [
             0.1111111111111111,
             "#000012"
            ],
            [
             0.2222222222222222,
             "#000013"
            ],
            [
             0.3333333333333333,
             "#000014"
            ],
            [
             0.4444444444444444,
             "#000015"
            ],
            [
             0.5555555555555556,
             "#000016"
            ],
            [
             0.6666666666666666,
             "#000017"
            ],
            [
             0.7777777777777778,
             "#000018"
            ],
            [
             0.8888888888888888,
             "#000019"
            ],
            [
             1,
             "#000020"
            ]
           ]
          },
          "colorway": [
           "#000001",
           "#000002",
           "#000003",
           "#000004",
           "#000005",
           "#000006",
           "#000007",
           "#000008",
           "#000009",
           "#000010"
          ]
         }
        },
        "title": {
         "text": "Weight Distribution"
        },
        "width": 500,
        "xaxis": {
         "anchor": "y",
         "domain": [
          0,
          1
         ],
         "title": {
          "text": "Weight (in Kg)"
         }
        },
        "yaxis": {
         "anchor": "x",
         "domain": [
          0,
          1
         ],
         "title": {
          "text": "Frequency"
         }
        }
       }
      }
     },
     "metadata": {},
     "output_type": "display_data"
    }
   ],
   "source": [
    "import plotly.express as px\n",
    "\n",
    "# Plot for Age\n",
    "fig = px.histogram(df, x='Age', nbins=20, title='Age Distribution')\n",
    "fig.update_layout(xaxis_title='Age',yaxis_title='Frequency',width=500,height=400)\n",
    "fig.update_traces(marker_color='yellow') \n",
    "fig.show()\n",
    "\n",
    "# Plot for Weight\n",
    "fig = px.histogram(df, x='Weight (in Kg)', nbins=20, title='Weight Distribution')\n",
    "fig.update_layout(xaxis_title='Weight (in Kg)', yaxis_title='Frequency', width=500,height=400 )\n",
    "fig.update_traces(marker_color='green') \n",
    "fig.show()\n"
   ]
  },
  {
   "cell_type": "code",
   "execution_count": 70,
   "metadata": {},
   "outputs": [
    {
     "data": {
      "application/vnd.plotly.v1+json": {
       "config": {
        "plotlyServerURL": "https://plot.ly"
       },
       "data": [
        {
         "alignmentgroup": "True",
         "hovertemplate": "Age=%{y}<extra></extra>",
         "legendgroup": "",
         "marker": {
          "color": "yellow"
         },
         "name": "",
         "notched": false,
         "offsetgroup": "",
         "orientation": "v",
         "showlegend": false,
         "type": "box",
         "x0": " ",
         "xaxis": "x",
         "y": [
          21,
          21,
          17,
          28,
          45,
          16,
          20,
          21,
          40,
          38,
          45,
          38,
          21,
          34,
          27,
          21,
          20,
          18,
          22,
          21,
          42,
          26,
          45,
          41,
          35,
          21,
          24,
          26,
          21,
          27,
          21,
          46,
          27,
          26,
          21,
          42,
          44,
          52,
          29,
          21,
          20,
          17,
          31,
          39,
          21,
          38,
          21,
          24,
          30,
          47,
          43,
          25,
          36,
          26,
          21,
          42,
          22,
          22,
          20,
          21,
          21,
          16,
          20,
          21,
          33,
          20,
          18,
          18,
          20,
          19,
          45,
          42,
          22,
          23,
          30,
          25,
          23,
          20,
          37,
          20,
          47,
          17,
          21,
          23,
          45,
          46,
          28,
          37,
          18,
          20,
          58,
          39,
          20,
          34,
          19,
          30,
          45,
          37,
          37,
          15,
          19,
          20,
          19,
          20,
          19,
          20,
          19,
          31,
          21,
          28,
          29,
          20,
          21,
          23,
          20,
          19,
          30,
          18,
          24,
          26,
          25,
          27,
          35,
          21,
          21,
          54,
          22,
          43,
          19,
          19,
          23,
          17,
          14,
          18,
          22,
          22,
          27,
          30,
          26,
          26,
          22,
          19,
          27,
          19,
          25,
          50,
          22,
          23,
          45,
          19,
          32,
          29,
          23,
          30,
          18,
          21,
          21,
          22,
          20,
          51,
          20,
          20,
          21,
          20,
          37,
          21,
          21,
          20,
          20,
          21,
          47,
          21,
          21,
          21,
          20,
          23,
          22,
          21,
          19,
          20,
          20,
          21,
          21,
          27,
          22,
          22,
          21,
          17,
          20,
          21,
          20,
          21,
          43,
          21,
          21,
          20,
          20,
          40,
          35,
          34,
          39,
          39,
          38,
          42,
          29,
          25,
          33,
          40,
          28,
          20,
          23,
          25,
          24,
          16,
          34,
          32,
          38,
          23,
          21,
          21,
          26,
          19,
          22,
          21,
          20,
          23,
          24,
          25,
          25,
          22,
          20,
          22,
          21,
          20,
          19,
          20,
          22,
          20,
          34,
          32,
          36,
          25,
          30,
          32,
          42,
          26,
          27,
          20,
          26,
          24,
          26,
          20,
          38,
          43,
          32,
          30,
          21,
          20,
          19,
          25,
          23,
          16,
          16,
          29,
          22,
          27,
          26,
          21,
          24,
          24,
          26,
          23,
          23,
          26,
          26,
          21,
          25,
          27,
          19,
          25,
          27,
          25,
          23,
          27,
          23,
          24,
          24,
          18,
          20,
          18,
          20,
          19,
          15,
          17,
          17,
          19,
          25,
          38,
          36,
          18,
          48,
          22,
          25,
          18,
          13,
          30,
          25,
          47,
          19,
          22,
          16,
          25,
          21,
          18,
          28,
          27,
          23,
          32,
          19,
          21,
          24,
          23,
          23,
          19,
          18,
          20,
          23,
          22,
          22,
          18,
          24,
          21,
          20,
          19,
          17,
          18,
          17,
          24,
          27,
          27,
          28,
          19,
          25,
          38,
          25,
          24,
          25,
          45,
          20,
          16,
          21,
          27,
          48,
          16,
          18,
          25,
          17,
          17,
          19,
          19,
          23,
          23,
          19,
          17,
          36,
          19,
          23,
          21,
          35,
          19,
          16,
          24,
          18,
          21,
          21,
          28,
          25,
          24,
          24,
          25,
          18,
          22,
          21,
          23,
          25,
          25,
          25,
          23,
          37,
          19,
          25,
          42,
          20,
          24,
          19,
          21,
          21,
          21,
          21,
          21,
          22,
          37,
          21,
          20,
          20,
          21,
          20,
          28,
          21,
          20,
          19,
          40,
          21,
          21,
          20,
          20,
          20,
          20,
          30,
          23,
          48,
          22,
          24,
          23,
          30,
          26,
          37,
          34,
          21,
          35,
          30,
          33,
          29,
          29,
          29,
          27,
          23,
          25,
          21,
          25,
          41,
          24,
          23,
          30,
          40,
          19,
          22,
          17,
          39,
          20,
          21,
          20,
          19,
          21,
          21,
          21,
          40,
          36,
          20,
          23,
          20,
          26,
          18,
          18,
          17
         ],
         "y0": " ",
         "yaxis": "y"
        }
       ],
       "layout": {
        "boxmode": "group",
        "height": 400,
        "legend": {
         "tracegroupgap": 0
        },
        "template": {
         "data": {
          "candlestick": [
           {
            "decreasing": {
             "line": {
              "color": "#000033"
             }
            },
            "increasing": {
             "line": {
              "color": "#000032"
             }
            },
            "type": "candlestick"
           }
          ],
          "contour": [
           {
            "colorscale": [
             [
              0,
              "#000011"
             ],
             [
              0.1111111111111111,
              "#000012"
             ],
             [
              0.2222222222222222,
              "#000013"
             ],
             [
              0.3333333333333333,
              "#000014"
             ],
             [
              0.4444444444444444,
              "#000015"
             ],
             [
              0.5555555555555556,
              "#000016"
             ],
             [
              0.6666666666666666,
              "#000017"
             ],
             [
              0.7777777777777778,
              "#000018"
             ],
             [
              0.8888888888888888,
              "#000019"
             ],
             [
              1,
              "#000020"
             ]
            ],
            "type": "contour"
           }
          ],
          "contourcarpet": [
           {
            "colorscale": [
             [
              0,
              "#000011"
             ],
             [
              0.1111111111111111,
              "#000012"
             ],
             [
              0.2222222222222222,
              "#000013"
             ],
             [
              0.3333333333333333,
              "#000014"
             ],
             [
              0.4444444444444444,
              "#000015"
             ],
             [
              0.5555555555555556,
              "#000016"
             ],
             [
              0.6666666666666666,
              "#000017"
             ],
             [
              0.7777777777777778,
              "#000018"
             ],
             [
              0.8888888888888888,
              "#000019"
             ],
             [
              1,
              "#000020"
             ]
            ],
            "type": "contourcarpet"
           }
          ],
          "heatmap": [
           {
            "colorscale": [
             [
              0,
              "#000011"
             ],
             [
              0.1111111111111111,
              "#000012"
             ],
             [
              0.2222222222222222,
              "#000013"
             ],
             [
              0.3333333333333333,
              "#000014"
             ],
             [
              0.4444444444444444,
              "#000015"
             ],
             [
              0.5555555555555556,
              "#000016"
             ],
             [
              0.6666666666666666,
              "#000017"
             ],
             [
              0.7777777777777778,
              "#000018"
             ],
             [
              0.8888888888888888,
              "#000019"
             ],
             [
              1,
              "#000020"
             ]
            ],
            "type": "heatmap"
           }
          ],
          "histogram2d": [
           {
            "colorscale": [
             [
              0,
              "#000011"
             ],
             [
              0.1111111111111111,
              "#000012"
             ],
             [
              0.2222222222222222,
              "#000013"
             ],
             [
              0.3333333333333333,
              "#000014"
             ],
             [
              0.4444444444444444,
              "#000015"
             ],
             [
              0.5555555555555556,
              "#000016"
             ],
             [
              0.6666666666666666,
              "#000017"
             ],
             [
              0.7777777777777778,
              "#000018"
             ],
             [
              0.8888888888888888,
              "#000019"
             ],
             [
              1,
              "#000020"
             ]
            ],
            "type": "histogram2d"
           }
          ],
          "icicle": [
           {
            "textfont": {
             "color": "white"
            },
            "type": "icicle"
           }
          ],
          "sankey": [
           {
            "textfont": {
             "color": "#000036"
            },
            "type": "sankey"
           }
          ],
          "scatter": [
           {
            "marker": {
             "line": {
              "width": 0
             }
            },
            "type": "scatter"
           }
          ],
          "table": [
           {
            "cells": {
             "fill": {
              "color": "#000038"
             },
             "font": {
              "color": "#000037"
             },
             "line": {
              "color": "#000039"
             }
            },
            "header": {
             "fill": {
              "color": "#000040"
             },
             "font": {
              "color": "#000036"
             },
             "line": {
              "color": "#000039"
             }
            },
            "type": "table"
           }
          ],
          "waterfall": [
           {
            "connector": {
             "line": {
              "color": "#000036",
              "width": 2
             }
            },
            "decreasing": {
             "marker": {
              "color": "#000033"
             }
            },
            "increasing": {
             "marker": {
              "color": "#000032"
             }
            },
            "totals": {
             "marker": {
              "color": "#000034"
             }
            },
            "type": "waterfall"
           }
          ]
         },
         "layout": {
          "coloraxis": {
           "colorscale": [
            [
             0,
             "#000011"
            ],
            [
             0.1111111111111111,
             "#000012"
            ],
            [
             0.2222222222222222,
             "#000013"
            ],
            [
             0.3333333333333333,
             "#000014"
            ],
            [
             0.4444444444444444,
             "#000015"
            ],
            [
             0.5555555555555556,
             "#000016"
            ],
            [
             0.6666666666666666,
             "#000017"
            ],
            [
             0.7777777777777778,
             "#000018"
            ],
            [
             0.8888888888888888,
             "#000019"
            ],
            [
             1,
             "#000020"
            ]
           ]
          },
          "colorscale": {
           "diverging": [
            [
             0,
             "#000021"
            ],
            [
             0.1,
             "#000022"
            ],
            [
             0.2,
             "#000023"
            ],
            [
             0.3,
             "#000024"
            ],
            [
             0.4,
             "#000025"
            ],
            [
             0.5,
             "#000026"
            ],
            [
             0.6,
             "#000027"
            ],
            [
             0.7,
             "#000028"
            ],
            [
             0.8,
             "#000029"
            ],
            [
             0.9,
             "#000030"
            ],
            [
             1,
             "#000031"
            ]
           ],
           "sequential": [
            [
             0,
             "#000011"
            ],
            [
             0.1111111111111111,
             "#000012"
            ],
            [
             0.2222222222222222,
             "#000013"
            ],
            [
             0.3333333333333333,
             "#000014"
            ],
            [
             0.4444444444444444,
             "#000015"
            ],
            [
             0.5555555555555556,
             "#000016"
            ],
            [
             0.6666666666666666,
             "#000017"
            ],
            [
             0.7777777777777778,
             "#000018"
            ],
            [
             0.8888888888888888,
             "#000019"
            ],
            [
             1,
             "#000020"
            ]
           ],
           "sequentialminus": [
            [
             0,
             "#000011"
            ],
            [
             0.1111111111111111,
             "#000012"
            ],
            [
             0.2222222222222222,
             "#000013"
            ],
            [
             0.3333333333333333,
             "#000014"
            ],
            [
             0.4444444444444444,
             "#000015"
            ],
            [
             0.5555555555555556,
             "#000016"
            ],
            [
             0.6666666666666666,
             "#000017"
            ],
            [
             0.7777777777777778,
             "#000018"
            ],
            [
             0.8888888888888888,
             "#000019"
            ],
            [
             1,
             "#000020"
            ]
           ]
          },
          "colorway": [
           "#000001",
           "#000002",
           "#000003",
           "#000004",
           "#000005",
           "#000006",
           "#000007",
           "#000008",
           "#000009",
           "#000010"
          ]
         }
        },
        "title": {
         "text": "Age Boxplot"
        },
        "width": 500,
        "xaxis": {
         "anchor": "y",
         "domain": [
          0,
          1
         ]
        },
        "yaxis": {
         "anchor": "x",
         "domain": [
          0,
          1
         ],
         "title": {
          "text": "Age"
         }
        }
       }
      }
     },
     "metadata": {},
     "output_type": "display_data"
    },
    {
     "data": {
      "application/vnd.plotly.v1+json": {
       "config": {
        "plotlyServerURL": "https://plot.ly"
       },
       "data": [
        {
         "alignmentgroup": "True",
         "hovertemplate": "Weight (in Kg)=%{y}<extra></extra>",
         "legendgroup": "",
         "marker": {
          "color": "green"
         },
         "name": "",
         "notched": false,
         "offsetgroup": "",
         "orientation": "v",
         "showlegend": false,
         "type": "box",
         "x0": " ",
         "xaxis": "x",
         "y": [
          47,
          45,
          37,
          54,
          40,
          70,
          48,
          55,
          68,
          62,
          58,
          64,
          42,
          60,
          52,
          67,
          48,
          55,
          75,
          47,
          63,
          53,
          65,
          60,
          70,
          52,
          49,
          69,
          57,
          52,
          64,
          69,
          56,
          64,
          47,
          75,
          65,
          70,
          54,
          55,
          52,
          40,
          62,
          63,
          60,
          56,
          55.5,
          87,
          65,
          62,
          89,
          81,
          59,
          53,
          55,
          75,
          52,
          47,
          73,
          48,
          45,
          70,
          70,
          58,
          63,
          44,
          52,
          45,
          47,
          48,
          58,
          50,
          54,
          49,
          56,
          58,
          50,
          65,
          64,
          71,
          67,
          53,
          58,
          65,
          90,
          54,
          56,
          68,
          58,
          54,
          50,
          70,
          55,
          60,
          48,
          50,
          60,
          52,
          66,
          62,
          43,
          50,
          46,
          68,
          58,
          75,
          47,
          65,
          52,
          68.5,
          65,
          50,
          65,
          65,
          55,
          75,
          85,
          52,
          75,
          55,
          54,
          55,
          64,
          86,
          60,
          62,
          60,
          65,
          50,
          65,
          68,
          39,
          44,
          50,
          65,
          54,
          49,
          60,
          39,
          75,
          56,
          69,
          68,
          54,
          62,
          44,
          54,
          51,
          68,
          63,
          65,
          68,
          40,
          52,
          50,
          55,
          50,
          67,
          57,
          54,
          50,
          50,
          52,
          45,
          57,
          50,
          67,
          50,
          48,
          44,
          58,
          60,
          58,
          56,
          72,
          64,
          60,
          61,
          45,
          53,
          55,
          78,
          58,
          58,
          59,
          85,
          65,
          62,
          58,
          75,
          76,
          58,
          62,
          69,
          33,
          63,
          42,
          52,
          61,
          63,
          57,
          50,
          52,
          67,
          83,
          70,
          65,
          68,
          58,
          68,
          56,
          58,
          69,
          45,
          82,
          60,
          65,
          55,
          58,
          58,
          68,
          48,
          47,
          47,
          42,
          59,
          40,
          43,
          41,
          59,
          47,
          54,
          49.8,
          62,
          63,
          60,
          54,
          62,
          69,
          62,
          60,
          64,
          48,
          70,
          74,
          65,
          52,
          52,
          46,
          50,
          65,
          70,
          87,
          85,
          86,
          52,
          50,
          45,
          89,
          66,
          50,
          60,
          40,
          55,
          49,
          60,
          70,
          65.5,
          74,
          60,
          80,
          48,
          54,
          60,
          75,
          65,
          57,
          56,
          55,
          50,
          65,
          56,
          78,
          56,
          59,
          75,
          75,
          74,
          75,
          66,
          74,
          51,
          55,
          55,
          66,
          60,
          58,
          54,
          65,
          45,
          40,
          46,
          51,
          60,
          50,
          48,
          78,
          66,
          50,
          57,
          51,
          65,
          68,
          65,
          45,
          54,
          74,
          67,
          54.5,
          64,
          61,
          80,
          55,
          50,
          48,
          58,
          83,
          69,
          45,
          65,
          60,
          45,
          46,
          49,
          48,
          50,
          55,
          100,
          54,
          51,
          55,
          61,
          65,
          63,
          90,
          60,
          50,
          63,
          50,
          61,
          47,
          90,
          57,
          36,
          53,
          66,
          60,
          75,
          49,
          53,
          45,
          62,
          53.5,
          52,
          75,
          53,
          49,
          60,
          75,
          53,
          54,
          84,
          47,
          56,
          60,
          59,
          80,
          60,
          55,
          80,
          44,
          77,
          80,
          48,
          88,
          54,
          65,
          45,
          68,
          51,
          65,
          70,
          57,
          58,
          65,
          58,
          46,
          84,
          54,
          60,
          72,
          45,
          50,
          54,
          58,
          54,
          50,
          59,
          48,
          56,
          53,
          72,
          62,
          48,
          51,
          53,
          42,
          48,
          35,
          55,
          78,
          59,
          65,
          51,
          65,
          65,
          73,
          60,
          50,
          50,
          74,
          62,
          64,
          60,
          70,
          39,
          78,
          55,
          40,
          65,
          59,
          55,
          76,
          56,
          68,
          85,
          48,
          67,
          64,
          70,
          47,
          56,
          75,
          67,
          56,
          52,
          73,
          70,
          45,
          65,
          80,
          62,
          63,
          47,
          45
         ],
         "y0": " ",
         "yaxis": "y"
        }
       ],
       "layout": {
        "boxmode": "group",
        "height": 400,
        "legend": {
         "tracegroupgap": 0
        },
        "template": {
         "data": {
          "candlestick": [
           {
            "decreasing": {
             "line": {
              "color": "#000033"
             }
            },
            "increasing": {
             "line": {
              "color": "#000032"
             }
            },
            "type": "candlestick"
           }
          ],
          "contour": [
           {
            "colorscale": [
             [
              0,
              "#000011"
             ],
             [
              0.1111111111111111,
              "#000012"
             ],
             [
              0.2222222222222222,
              "#000013"
             ],
             [
              0.3333333333333333,
              "#000014"
             ],
             [
              0.4444444444444444,
              "#000015"
             ],
             [
              0.5555555555555556,
              "#000016"
             ],
             [
              0.6666666666666666,
              "#000017"
             ],
             [
              0.7777777777777778,
              "#000018"
             ],
             [
              0.8888888888888888,
              "#000019"
             ],
             [
              1,
              "#000020"
             ]
            ],
            "type": "contour"
           }
          ],
          "contourcarpet": [
           {
            "colorscale": [
             [
              0,
              "#000011"
             ],
             [
              0.1111111111111111,
              "#000012"
             ],
             [
              0.2222222222222222,
              "#000013"
             ],
             [
              0.3333333333333333,
              "#000014"
             ],
             [
              0.4444444444444444,
              "#000015"
             ],
             [
              0.5555555555555556,
              "#000016"
             ],
             [
              0.6666666666666666,
              "#000017"
             ],
             [
              0.7777777777777778,
              "#000018"
             ],
             [
              0.8888888888888888,
              "#000019"
             ],
             [
              1,
              "#000020"
             ]
            ],
            "type": "contourcarpet"
           }
          ],
          "heatmap": [
           {
            "colorscale": [
             [
              0,
              "#000011"
             ],
             [
              0.1111111111111111,
              "#000012"
             ],
             [
              0.2222222222222222,
              "#000013"
             ],
             [
              0.3333333333333333,
              "#000014"
             ],
             [
              0.4444444444444444,
              "#000015"
             ],
             [
              0.5555555555555556,
              "#000016"
             ],
             [
              0.6666666666666666,
              "#000017"
             ],
             [
              0.7777777777777778,
              "#000018"
             ],
             [
              0.8888888888888888,
              "#000019"
             ],
             [
              1,
              "#000020"
             ]
            ],
            "type": "heatmap"
           }
          ],
          "histogram2d": [
           {
            "colorscale": [
             [
              0,
              "#000011"
             ],
             [
              0.1111111111111111,
              "#000012"
             ],
             [
              0.2222222222222222,
              "#000013"
             ],
             [
              0.3333333333333333,
              "#000014"
             ],
             [
              0.4444444444444444,
              "#000015"
             ],
             [
              0.5555555555555556,
              "#000016"
             ],
             [
              0.6666666666666666,
              "#000017"
             ],
             [
              0.7777777777777778,
              "#000018"
             ],
             [
              0.8888888888888888,
              "#000019"
             ],
             [
              1,
              "#000020"
             ]
            ],
            "type": "histogram2d"
           }
          ],
          "icicle": [
           {
            "textfont": {
             "color": "white"
            },
            "type": "icicle"
           }
          ],
          "sankey": [
           {
            "textfont": {
             "color": "#000036"
            },
            "type": "sankey"
           }
          ],
          "scatter": [
           {
            "marker": {
             "line": {
              "width": 0
             }
            },
            "type": "scatter"
           }
          ],
          "table": [
           {
            "cells": {
             "fill": {
              "color": "#000038"
             },
             "font": {
              "color": "#000037"
             },
             "line": {
              "color": "#000039"
             }
            },
            "header": {
             "fill": {
              "color": "#000040"
             },
             "font": {
              "color": "#000036"
             },
             "line": {
              "color": "#000039"
             }
            },
            "type": "table"
           }
          ],
          "waterfall": [
           {
            "connector": {
             "line": {
              "color": "#000036",
              "width": 2
             }
            },
            "decreasing": {
             "marker": {
              "color": "#000033"
             }
            },
            "increasing": {
             "marker": {
              "color": "#000032"
             }
            },
            "totals": {
             "marker": {
              "color": "#000034"
             }
            },
            "type": "waterfall"
           }
          ]
         },
         "layout": {
          "coloraxis": {
           "colorscale": [
            [
             0,
             "#000011"
            ],
            [
             0.1111111111111111,
             "#000012"
            ],
            [
             0.2222222222222222,
             "#000013"
            ],
            [
             0.3333333333333333,
             "#000014"
            ],
            [
             0.4444444444444444,
             "#000015"
            ],
            [
             0.5555555555555556,
             "#000016"
            ],
            [
             0.6666666666666666,
             "#000017"
            ],
            [
             0.7777777777777778,
             "#000018"
            ],
            [
             0.8888888888888888,
             "#000019"
            ],
            [
             1,
             "#000020"
            ]
           ]
          },
          "colorscale": {
           "diverging": [
            [
             0,
             "#000021"
            ],
            [
             0.1,
             "#000022"
            ],
            [
             0.2,
             "#000023"
            ],
            [
             0.3,
             "#000024"
            ],
            [
             0.4,
             "#000025"
            ],
            [
             0.5,
             "#000026"
            ],
            [
             0.6,
             "#000027"
            ],
            [
             0.7,
             "#000028"
            ],
            [
             0.8,
             "#000029"
            ],
            [
             0.9,
             "#000030"
            ],
            [
             1,
             "#000031"
            ]
           ],
           "sequential": [
            [
             0,
             "#000011"
            ],
            [
             0.1111111111111111,
             "#000012"
            ],
            [
             0.2222222222222222,
             "#000013"
            ],
            [
             0.3333333333333333,
             "#000014"
            ],
            [
             0.4444444444444444,
             "#000015"
            ],
            [
             0.5555555555555556,
             "#000016"
            ],
            [
             0.6666666666666666,
             "#000017"
            ],
            [
             0.7777777777777778,
             "#000018"
            ],
            [
             0.8888888888888888,
             "#000019"
            ],
            [
             1,
             "#000020"
            ]
           ],
           "sequentialminus": [
            [
             0,
             "#000011"
            ],
            [
             0.1111111111111111,
             "#000012"
            ],
            [
             0.2222222222222222,
             "#000013"
            ],
            [
             0.3333333333333333,
             "#000014"
            ],
            [
             0.4444444444444444,
             "#000015"
            ],
            [
             0.5555555555555556,
             "#000016"
            ],
            [
             0.6666666666666666,
             "#000017"
            ],
            [
             0.7777777777777778,
             "#000018"
            ],
            [
             0.8888888888888888,
             "#000019"
            ],
            [
             1,
             "#000020"
            ]
           ]
          },
          "colorway": [
           "#000001",
           "#000002",
           "#000003",
           "#000004",
           "#000005",
           "#000006",
           "#000007",
           "#000008",
           "#000009",
           "#000010"
          ]
         }
        },
        "title": {
         "text": "Weight Boxplot"
        },
        "width": 500,
        "xaxis": {
         "anchor": "y",
         "domain": [
          0,
          1
         ]
        },
        "yaxis": {
         "anchor": "x",
         "domain": [
          0,
          1
         ],
         "title": {
          "text": "Weight (in Kg)"
         }
        }
       }
      }
     },
     "metadata": {},
     "output_type": "display_data"
    }
   ],
   "source": [
    "# Box Plot for Age\n",
    "fig = px.box(df, y='Age', title='Age Boxplot',width=500,height=400)\n",
    "fig.update_layout(yaxis_title='Age')\n",
    "fig.update_traces(marker_color='yellow')\n",
    "fig.show()\n",
    "\n",
    "# Box Plot for Weight\n",
    "fig = px.box(df, y='Weight (in Kg)', title='Weight Boxplot',width=500,height=400)\n",
    "fig.update_layout(yaxis_title='Weight (in Kg)')\n",
    "fig.update_traces(marker_color='green')\n",
    "fig.show()\n"
   ]
  },
  {
   "cell_type": "code",
   "execution_count": 71,
   "metadata": {},
   "outputs": [
    {
     "data": {
      "image/png": "[encoded data removed]",
      "text/plain": [
       "<Figure size 500x300 with 1 Axes>"
      ]
     },
     "metadata": {},
     "output_type": "display_data"
    },
    {
     "data": {
      "image/png": "[encoded data removed]",
      "text/plain": [
       "<Figure size 500x300 with 1 Axes>"
      ]
     },
     "metadata": {},
     "output_type": "display_data"
    }
   ],
   "source": [
    "# Ensure Matplotlib plots show inline in Jupyter notebook\n",
    "%matplotlib inline\n",
    "\n",
    "import matplotlib.pyplot as plt\n",
    "\n",
    "# Count Plot for Blood Group\n",
    "blood_group_counts = df[' blood group'].value_counts()\n",
    "plt.figure(figsize=(5,3))\n",
    "blood_group_counts.plot(kind='bar', color='skyblue')\n",
    "plt.title('Blood Group Distribution')\n",
    "plt.xlabel('Blood Group')\n",
    "plt.ylabel('Count')\n",
    "plt.xticks(rotation=0)\n",
    "plt.show()\n",
    "\n",
    "# Count Plot for PCOS\n",
    "pcos_counts = df['PCOS'].value_counts()\n",
    "plt.figure(figsize=(5,3))\n",
    "pcos_counts.plot(kind='bar', color='lightgreen')\n",
    "plt.title('PCOS Distribution')\n",
    "plt.xlabel('PCOS')\n",
    "plt.ylabel('Count')\n",
    "plt.xticks(rotation=0)\n",
    "plt.show()\n"
   ]
  },
  {
   "cell_type": "code",
   "execution_count": 72,
   "metadata": {},
   "outputs": [
    {
     "name": "stdout",
     "output_type": "stream",
     "text": [
      "                     Age  Weight (in Kg)    Height  PeriodDuration\n",
      "Age             1.000000        0.226502 -0.064808       -0.233625\n",
      "Weight (in Kg)  0.226502        1.000000  0.110967       -0.061328\n",
      "Height         -0.064808        0.110967  1.000000        0.008294\n",
      "PeriodDuration -0.233625       -0.061328  0.008294        1.000000\n"
     ]
    },
    {
     "data": {
      "image/png": "[encoded data removed]",
      "text/plain": [
       "<Figure size 500x300 with 2 Axes>"
      ]
     },
     "metadata": {},
     "output_type": "display_data"
    }
   ],
   "source": [
    "# Correlation analysis for numerical columns\n",
    "correlation_matrix = df[['Age', 'Weight (in Kg)', 'Height', 'PeriodDuration']].corr()\n",
    "print(correlation_matrix)\n",
    "import seaborn as sns\n",
    "\n",
    "# Set the size of the plot\n",
    "plt.figure(figsize=(5,3))\n",
    "\n",
    "# Heatmap to visualize the correlation matrix\n",
    "sns.heatmap(correlation_matrix, annot=True, cmap='coolwarm', fmt='.2f', linewidths=0.5)\n",
    "plt.title('Correlation Matrix of Numerical Features')\n",
    "plt.show()\n",
    "\n"
   ]
  },
  {
   "cell_type": "code",
   "execution_count": 73,
   "metadata": {},
   "outputs": [
    {
     "name": "stdout",
     "output_type": "stream",
     "text": [
      "Age                         0\n",
      "Weight (in Kg)              0\n",
      "Height                      0\n",
      " blood group                0\n",
      "MenstrualCycleRegularity    0\n",
      "RecentWeightChange          0\n",
      "Hirsutism                   0\n",
      "SkinDarkening               0\n",
      "HairLoss                    0\n",
      "Acne                        0\n",
      "FastFoodConsumption         0\n",
      "ExerciseRegularity          0\n",
      "PCOS                        0\n",
      "MoodSwings                  0\n",
      "PeriodDuration              0\n",
      "dtype: int64\n"
     ]
    },
    {
     "data": {
      "image/png": "[encoded data removed]",
      "text/plain": [
       "<Figure size 500x300 with 1 Axes>"
      ]
     },
     "metadata": {},
     "output_type": "display_data"
    }
   ],
   "source": [
    "# Checking for missing values in each column\n",
    "missing_values = df.isnull().sum()\n",
    "print(missing_values)\n",
    "import seaborn as sns\n",
    "\n",
    "\n",
    "# Visualize missing data using Seaborn heatmap\n",
    "plt.figure(figsize=(5,3))\n",
    "sns.heatmap(df.isnull(), cbar=False, cmap='viridis')\n",
    "plt.title('Missing Value Heatmap')\n",
    "plt.show()\n",
    "\n"
   ]
  },
  {
   "cell_type": "code",
   "execution_count": 74,
   "metadata": {},
   "outputs": [
    {
     "data": {
      "image/png": "[encoded data removed]",
      "text/plain": [
       "<Figure size 1200x600 with 1 Axes>"
      ]
     },
     "metadata": {},
     "output_type": "display_data"
    }
   ],
   "source": [
    "import seaborn as sns\n",
    "\n",
    "# Create boxplots to detect outliers for numeric columns\n",
    "plt.figure(figsize=(12, 6))\n",
    "sns.boxplot(data=df[['Age', 'Weight (in Kg)', 'Height', 'PeriodDuration']])\n",
    "plt.title('Boxplot for Outlier Detection')\n",
    "plt.show()\n"
   ]
  },
  {
   "cell_type": "code",
   "execution_count": 75,
   "metadata": {},
   "outputs": [
    {
     "data": {
      "image/png": "[encoded data removed]",
      "text/plain": [
       "<Figure size 700x300 with 2 Axes>"
      ]
     },
     "metadata": {},
     "output_type": "display_data"
    }
   ],
   "source": [
    "import matplotlib.pyplot as plt\n",
    "\n",
    "# Create histograms for numeric columns\n",
    "df[['Height', 'PeriodDuration']].hist(bins=20, figsize=(7,3))\n",
    "plt.suptitle('Feature Distributions')\n",
    "plt.show()\n"
   ]
  },
  {
   "cell_type": "code",
   "execution_count": 76,
   "metadata": {},
   "outputs": [
    {
     "data": {
      "image/png": "[encoded data removed]",
      "text/plain": [
       "<Figure size 800x600 with 1 Axes>"
      ]
     },
     "metadata": {},
     "output_type": "display_data"
    }
   ],
   "source": [
    "plt.figure(figsize=(8, 6))\n",
    "df['MenstrualCycleRegularity'].value_counts().plot(kind='pie', autopct='%1.1f%%', startangle=90, legend=False)\n",
    "plt.title('Menstrual Cycle Regularity')\n",
    "plt.ylabel('')\n",
    "plt.show()\n"
   ]
  },
  {
   "cell_type": "code",
   "execution_count": 77,
   "metadata": {},
   "outputs": [
    {
     "name": "stderr",
     "output_type": "stream",
     "text": [
      "C:\\Users\\hp\\AppData\\Local\\Temp\\ipykernel_12476\\309638397.py:4: FutureWarning:\n",
      "\n",
      "The default of observed=False is deprecated and will be changed to True in a future version of pandas. Pass observed=False to retain current behavior or observed=True to adopt the future default and silence this warning.\n",
      "\n"
     ]
    },
    {
     "data": {
      "application/vnd.plotly.v1+json": {
       "config": {
        "plotlyServerURL": "https://plot.ly"
       },
       "data": [
        {
         "alignmentgroup": "True",
         "hovertemplate": "MoodSwings=No Mood Swings<br>PCOS Status=%{x}<br>Count=%{y}<extra></extra>",
         "legendgroup": "No Mood Swings",
         "marker": {
          "color": "blue",
          "pattern": {
           "shape": ""
          }
         },
         "name": "No Mood Swings",
         "offsetgroup": "No Mood Swings",
         "orientation": "v",
         "showlegend": true,
         "textposition": "auto",
         "type": "bar",
         "x": [
          "No PCOS",
          "PCOS"
         ],
         "xaxis": "x",
         "y": [
          96,
          15
         ],
         "yaxis": "y"
        },
        {
         "alignmentgroup": "True",
         "hovertemplate": "MoodSwings=Mood Swings<br>PCOS Status=%{x}<br>Count=%{y}<extra></extra>",
         "legendgroup": "Mood Swings",
         "marker": {
          "color": "orange",
          "pattern": {
           "shape": ""
          }
         },
         "name": "Mood Swings",
         "offsetgroup": "Mood Swings",
         "orientation": "v",
         "showlegend": true,
         "textposition": "auto",
         "type": "bar",
         "x": [
          "No PCOS",
          "PCOS"
         ],
         "xaxis": "x",
         "y": [
          267,
          87
         ],
         "yaxis": "y"
        }
       ],
       "layout": {
        "barmode": "group",
        "legend": {
         "title": {
          "text": "MoodSwings"
         },
         "tracegroupgap": 0
        },
        "template": {
         "data": {
          "candlestick": [
           {
            "decreasing": {
             "line": {
              "color": "#000033"
             }
            },
            "increasing": {
             "line": {
              "color": "#000032"
             }
            },
            "type": "candlestick"
           }
          ],
          "contour": [
           {
            "colorscale": [
             [
              0,
              "#000011"
             ],
             [
              0.1111111111111111,
              "#000012"
             ],
             [
              0.2222222222222222,
              "#000013"
             ],
             [
              0.3333333333333333,
              "#000014"
             ],
             [
              0.4444444444444444,
              "#000015"
             ],
             [
              0.5555555555555556,
              "#000016"
             ],
             [
              0.6666666666666666,
              "#000017"
             ],
             [
              0.7777777777777778,
              "#000018"
             ],
             [
              0.8888888888888888,
              "#000019"
             ],
             [
              1,
              "#000020"
             ]
            ],
            "type": "contour"
           }
          ],
          "contourcarpet": [
           {
            "colorscale": [
             [
              0,
              "#000011"
             ],
             [
              0.1111111111111111,
              "#000012"
             ],
             [
              0.2222222222222222,
              "#000013"
             ],
             [
              0.3333333333333333,
              "#000014"
             ],
             [
              0.4444444444444444,
              "#000015"
             ],
             [
              0.5555555555555556,
              "#000016"
             ],
             [
              0.6666666666666666,
              "#000017"
             ],
             [
              0.7777777777777778,
              "#000018"
             ],
             [
              0.8888888888888888,
              "#000019"
             ],
             [
              1,
              "#000020"
             ]
            ],
            "type": "contourcarpet"
           }
          ],
          "heatmap": [
           {
            "colorscale": [
             [
              0,
              "#000011"
             ],
             [
              0.1111111111111111,
              "#000012"
             ],
             [
              0.2222222222222222,
              "#000013"
             ],
             [
              0.3333333333333333,
              "#000014"
             ],
             [
              0.4444444444444444,
              "#000015"
             ],
             [
              0.5555555555555556,
              "#000016"
             ],
             [
              0.6666666666666666,
              "#000017"
             ],
             [
              0.7777777777777778,
              "#000018"
             ],
             [
              0.8888888888888888,
              "#000019"
             ],
             [
              1,
              "#000020"
             ]
            ],
            "type": "heatmap"
           }
          ],
          "histogram2d": [
           {
            "colorscale": [
             [
              0,
              "#000011"
             ],
             [
              0.1111111111111111,
              "#000012"
             ],
             [
              0.2222222222222222,
              "#000013"
             ],
             [
              0.3333333333333333,
              "#000014"
             ],
             [
              0.4444444444444444,
              "#000015"
             ],
             [
              0.5555555555555556,
              "#000016"
             ],
             [
              0.6666666666666666,
              "#000017"
             ],
             [
              0.7777777777777778,
              "#000018"
             ],
             [
              0.8888888888888888,
              "#000019"
             ],
             [
              1,
              "#000020"
             ]
            ],
            "type": "histogram2d"
           }
          ],
          "icicle": [
           {
            "textfont": {
             "color": "white"
            },
            "type": "icicle"
           }
          ],
          "sankey": [
           {
            "textfont": {
             "color": "#000036"
            },
            "type": "sankey"
           }
          ],
          "scatter": [
           {
            "marker": {
             "line": {
              "width": 0
             }
            },
            "type": "scatter"
           }
          ],
          "table": [
           {
            "cells": {
             "fill": {
              "color": "#000038"
             },
             "font": {
              "color": "#000037"
             },
             "line": {
              "color": "#000039"
             }
            },
            "header": {
             "fill": {
              "color": "#000040"
             },
             "font": {
              "color": "#000036"
             },
             "line": {
              "color": "#000039"
             }
            },
            "type": "table"
           }
          ],
          "waterfall": [
           {
            "connector": {
             "line": {
              "color": "#000036",
              "width": 2
             }
            },
            "decreasing": {
             "marker": {
              "color": "#000033"
             }
            },
            "increasing": {
             "marker": {
              "color": "#000032"
             }
            },
            "totals": {
             "marker": {
              "color": "#000034"
             }
            },
            "type": "waterfall"
           }
          ]
         },
         "layout": {
          "coloraxis": {
           "colorscale": [
            [
             0,
             "#000011"
            ],
            [
             0.1111111111111111,
             "#000012"
            ],
            [
             0.2222222222222222,
             "#000013"
            ],
            [
             0.3333333333333333,
             "#000014"
            ],
            [
             0.4444444444444444,
             "#000015"
            ],
            [
             0.5555555555555556,
             "#000016"
            ],
            [
             0.6666666666666666,
             "#000017"
            ],
            [
             0.7777777777777778,
             "#000018"
            ],
            [
             0.8888888888888888,
             "#000019"
            ],
            [
             1,
             "#000020"
            ]
           ]
          },
          "colorscale": {
           "diverging": [
            [
             0,
             "#000021"
            ],
            [
             0.1,
             "#000022"
            ],
            [
             0.2,
             "#000023"
            ],
            [
             0.3,
             "#000024"
            ],
            [
             0.4,
             "#000025"
            ],
            [
             0.5,
             "#000026"
            ],
            [
             0.6,
             "#000027"
            ],
            [
             0.7,
             "#000028"
            ],
            [
             0.8,
             "#000029"
            ],
            [
             0.9,
             "#000030"
            ],
            [
             1,
             "#000031"
            ]
           ],
           "sequential": [
            [
             0,
             "#000011"
            ],
            [
             0.1111111111111111,
             "#000012"
            ],
            [
             0.2222222222222222,
             "#000013"
            ],
            [
             0.3333333333333333,
             "#000014"
            ],
            [
             0.4444444444444444,
             "#000015"
            ],
            [
             0.5555555555555556,
             "#000016"
            ],
            [
             0.6666666666666666,
             "#000017"
            ],
            [
             0.7777777777777778,
             "#000018"
            ],
            [
             0.8888888888888888,
             "#000019"
            ],
            [
             1,
             "#000020"
            ]
           ],
           "sequentialminus": [
            [
             0,
             "#000011"
            ],
            [
             0.1111111111111111,
             "#000012"
            ],
            [
             0.2222222222222222,
             "#000013"
            ],
            [
             0.3333333333333333,
             "#000014"
            ],
            [
             0.4444444444444444,
             "#000015"
            ],
            [
             0.5555555555555556,
             "#000016"
            ],
            [
             0.6666666666666666,
             "#000017"
            ],
            [
             0.7777777777777778,
             "#000018"
            ],
            [
             0.8888888888888888,
             "#000019"
            ],
            [
             1,
             "#000020"
            ]
           ]
          },
          "colorway": [
           "#000001",
           "#000002",
           "#000003",
           "#000004",
           "#000005",
           "#000006",
           "#000007",
           "#000008",
           "#000009",
           "#000010"
          ]
         }
        },
        "title": {
         "text": "PCOS vs Mood Swings Relationship"
        },
        "xaxis": {
         "anchor": "y",
         "domain": [
          0,
          1
         ],
         "title": {
          "text": "PCOS Status"
         }
        },
        "yaxis": {
         "anchor": "x",
         "domain": [
          0,
          1
         ],
         "title": {
          "text": "Count"
         }
        }
       }
      }
     },
     "metadata": {},
     "output_type": "display_data"
    }
   ],
   "source": [
    "import plotly.express as px\n",
    "\n",
    "# Group by PCOS and MoodSwings and count the occurrences\n",
    "pcos_mood_count = df.groupby(['PCOS', 'MoodSwings']).size().reset_index(name='count')\n",
    "pcos_mood_count['PCOS'] = pcos_mood_count['PCOS'].map({0: 'No PCOS', 1: 'PCOS'})\n",
    "pcos_mood_count['MoodSwings'] = pcos_mood_count['MoodSwings'].map({0: 'No Mood Swings', 1: 'Mood Swings'})\n",
    "\n",
    "# Create a bar plot with custom colors for Mood Swings\n",
    "fig = px.bar(pcos_mood_count, \n",
    "             x='PCOS', y='count', color='MoodSwings', \n",
    "             title='PCOS vs Mood Swings Relationship',\n",
    "             labels={'PCOS': 'PCOS Status', 'count': 'Count'},\n",
    "             barmode='group',\n",
    "             color_discrete_map={'No Mood Swings': 'blue', 'Mood Swings': 'orange'}) \n",
    "fig.show()\n"
   ]
  },
  {
   "cell_type": "code",
   "execution_count": 78,
   "metadata": {},
   "outputs": [
    {
     "data": {
      "image/png": "[encoded data removed]",
      "text/plain": [
       "<Figure size 800x600 with 1 Axes>"
      ]
     },
     "metadata": {},
     "output_type": "display_data"
    }
   ],
   "source": [
    "plt.figure(figsize=(8, 6))\n",
    "df['PCOS'].value_counts().plot(kind='pie', autopct='%1.1f%%', startangle=90, legend=False)\n",
    "plt.title('PCOS')\n",
    "plt.ylabel('')\n",
    "plt.show()\n"
   ]
  },
  {
   "cell_type": "code",
   "execution_count": 79,
   "metadata": {},
   "outputs": [
    {
     "name": "stderr",
     "output_type": "stream",
     "text": [
      "C:\\Users\\hp\\AppData\\Local\\Temp\\ipykernel_12476\\1876641132.py:2: FutureWarning:\n",
      "\n",
      "The default of observed=False is deprecated and will be changed to True in a future version of pandas. Pass observed=False to retain current behavior or observed=True to adopt the future default and silence this warning.\n",
      "\n"
     ]
    },
    {
     "data": {
      "application/vnd.plotly.v1+json": {
       "config": {
        "plotlyServerURL": "https://plot.ly"
       },
       "data": [
        {
         "alignmentgroup": "True",
         "hovertemplate": "ExerciseRegularity=No Exercise<br>PCOS Status=%{x}<br>Count=%{y}<extra></extra>",
         "legendgroup": "No Exercise",
         "marker": {
          "color": "blue",
          "pattern": {
           "shape": ""
          }
         },
         "name": "No Exercise",
         "offsetgroup": "No Exercise",
         "orientation": "v",
         "showlegend": true,
         "textposition": "auto",
         "type": "bar",
         "x": [
          "No PCOS",
          "PCOS"
         ],
         "xaxis": "x",
         "y": [
          258,
          74
         ],
         "yaxis": "y"
        },
        {
         "alignmentgroup": "True",
         "hovertemplate": "ExerciseRegularity=Regular Exercise<br>PCOS Status=%{x}<br>Count=%{y}<extra></extra>",
         "legendgroup": "Regular Exercise",
         "marker": {
          "color": "orange",
          "pattern": {
           "shape": ""
          }
         },
         "name": "Regular Exercise",
         "offsetgroup": "Regular Exercise",
         "orientation": "v",
         "showlegend": true,
         "textposition": "auto",
         "type": "bar",
         "x": [
          "No PCOS",
          "PCOS"
         ],
         "xaxis": "x",
         "y": [
          105,
          28
         ],
         "yaxis": "y"
        }
       ],
       "layout": {
        "barmode": "group",
        "legend": {
         "title": {
          "text": "ExerciseRegularity"
         },
         "tracegroupgap": 0
        },
        "template": {
         "data": {
          "candlestick": [
           {
            "decreasing": {
             "line": {
              "color": "#000033"
             }
            },
            "increasing": {
             "line": {
              "color": "#000032"
             }
            },
            "type": "candlestick"
           }
          ],
          "contour": [
           {
            "colorscale": [
             [
              0,
              "#000011"
             ],
             [
              0.1111111111111111,
              "#000012"
             ],
             [
              0.2222222222222222,
              "#000013"
             ],
             [
              0.3333333333333333,
              "#000014"
             ],
             [
              0.4444444444444444,
              "#000015"
             ],
             [
              0.5555555555555556,
              "#000016"
             ],
             [
              0.6666666666666666,
              "#000017"
             ],
             [
              0.7777777777777778,
              "#000018"
             ],
             [
              0.8888888888888888,
              "#000019"
             ],
             [
              1,
              "#000020"
             ]
            ],
            "type": "contour"
           }
          ],
          "contourcarpet": [
           {
            "colorscale": [
             [
              0,
              "#000011"
             ],
             [
              0.1111111111111111,
              "#000012"
             ],
             [
              0.2222222222222222,
              "#000013"
             ],
             [
              0.3333333333333333,
              "#000014"
             ],
             [
              0.4444444444444444,
              "#000015"
             ],
             [
              0.5555555555555556,
              "#000016"
             ],
             [
              0.6666666666666666,
              "#000017"
             ],
             [
              0.7777777777777778,
              "#000018"
             ],
             [
              0.8888888888888888,
              "#000019"
             ],
             [
              1,
              "#000020"
             ]
            ],
            "type": "contourcarpet"
           }
          ],
          "heatmap": [
           {
            "colorscale": [
             [
              0,
              "#000011"
             ],
             [
              0.1111111111111111,
              "#000012"
             ],
             [
              0.2222222222222222,
              "#000013"
             ],
             [
              0.3333333333333333,
              "#000014"
             ],
             [
              0.4444444444444444,
              "#000015"
             ],
             [
              0.5555555555555556,
              "#000016"
             ],
             [
              0.6666666666666666,
              "#000017"
             ],
             [
              0.7777777777777778,
              "#000018"
             ],
             [
              0.8888888888888888,
              "#000019"
             ],
             [
              1,
              "#000020"
             ]
            ],
            "type": "heatmap"
           }
          ],
          "histogram2d": [
           {
            "colorscale": [
             [
              0,
              "#000011"
             ],
             [
              0.1111111111111111,
              "#000012"
             ],
             [
              0.2222222222222222,
              "#000013"
             ],
             [
              0.3333333333333333,
              "#000014"
             ],
             [
              0.4444444444444444,
              "#000015"
             ],
             [
              0.5555555555555556,
              "#000016"
             ],
             [
              0.6666666666666666,
              "#000017"
             ],
             [
              0.7777777777777778,
              "#000018"
             ],
             [
              0.8888888888888888,
              "#000019"
             ],
             [
              1,
              "#000020"
             ]
            ],
            "type": "histogram2d"
           }
          ],
          "icicle": [
           {
            "textfont": {
             "color": "white"
            },
            "type": "icicle"
           }
          ],
          "sankey": [
           {
            "textfont": {
             "color": "#000036"
            },
            "type": "sankey"
           }
          ],
          "scatter": [
           {
            "marker": {
             "line": {
              "width": 0
             }
            },
            "type": "scatter"
           }
          ],
          "table": [
           {
            "cells": {
             "fill": {
              "color": "#000038"
             },
             "font": {
              "color": "#000037"
             },
             "line": {
              "color": "#000039"
             }
            },
            "header": {
             "fill": {
              "color": "#000040"
             },
             "font": {
              "color": "#000036"
             },
             "line": {
              "color": "#000039"
             }
            },
            "type": "table"
           }
          ],
          "waterfall": [
           {
            "connector": {
             "line": {
              "color": "#000036",
              "width": 2
             }
            },
            "decreasing": {
             "marker": {
              "color": "#000033"
             }
            },
            "increasing": {
             "marker": {
              "color": "#000032"
             }
            },
            "totals": {
             "marker": {
              "color": "#000034"
             }
            },
            "type": "waterfall"
           }
          ]
         },
         "layout": {
          "coloraxis": {
           "colorscale": [
            [
             0,
             "#000011"
            ],
            [
             0.1111111111111111,
             "#000012"
            ],
            [
             0.2222222222222222,
             "#000013"
            ],
            [
             0.3333333333333333,
             "#000014"
            ],
            [
             0.4444444444444444,
             "#000015"
            ],
            [
             0.5555555555555556,
             "#000016"
            ],
            [
             0.6666666666666666,
             "#000017"
            ],
            [
             0.7777777777777778,
             "#000018"
            ],
            [
             0.8888888888888888,
             "#000019"
            ],
            [
             1,
             "#000020"
            ]
           ]
          },
          "colorscale": {
           "diverging": [
            [
             0,
             "#000021"
            ],
            [
             0.1,
             "#000022"
            ],
            [
             0.2,
             "#000023"
            ],
            [
             0.3,
             "#000024"
            ],
            [
             0.4,
             "#000025"
            ],
            [
             0.5,
             "#000026"
            ],
            [
             0.6,
             "#000027"
            ],
            [
             0.7,
             "#000028"
            ],
            [
             0.8,
             "#000029"
            ],
            [
             0.9,
             "#000030"
            ],
            [
             1,
             "#000031"
            ]
           ],
           "sequential": [
            [
             0,
             "#000011"
            ],
            [
             0.1111111111111111,
             "#000012"
            ],
            [
             0.2222222222222222,
             "#000013"
            ],
            [
             0.3333333333333333,
             "#000014"
            ],
            [
             0.4444444444444444,
             "#000015"
            ],
            [
             0.5555555555555556,
             "#000016"
            ],
            [
             0.6666666666666666,
             "#000017"
            ],
            [
             0.7777777777777778,
             "#000018"
            ],
            [
             0.8888888888888888,
             "#000019"
            ],
            [
             1,
             "#000020"
            ]
           ],
           "sequentialminus": [
            [
             0,
             "#000011"
            ],
            [
             0.1111111111111111,
             "#000012"
            ],
            [
             0.2222222222222222,
             "#000013"
            ],
            [
             0.3333333333333333,
             "#000014"
            ],
            [
             0.4444444444444444,
             "#000015"
            ],
            [
             0.5555555555555556,
             "#000016"
            ],
            [
             0.6666666666666666,
             "#000017"
            ],
            [
             0.7777777777777778,
             "#000018"
            ],
            [
             0.8888888888888888,
             "#000019"
            ],
            [
             1,
             "#000020"
            ]
           ]
          },
          "colorway": [
           "#000001",
           "#000002",
           "#000003",
           "#000004",
           "#000005",
           "#000006",
           "#000007",
           "#000008",
           "#000009",
           "#000010"
          ]
         }
        },
        "title": {
         "text": "PCOS vs Exercise Regularity Relationship"
        },
        "xaxis": {
         "anchor": "y",
         "domain": [
          0,
          1
         ],
         "title": {
          "text": "PCOS Status"
         }
        },
        "yaxis": {
         "anchor": "x",
         "domain": [
          0,
          1
         ],
         "title": {
          "text": "Count"
         }
        }
       }
      }
     },
     "metadata": {},
     "output_type": "display_data"
    }
   ],
   "source": [
    "import plotly.express as px\n",
    "pcos_exercise_count = df.groupby(['PCOS', 'ExerciseRegularity']).size().reset_index(name='count')\n",
    "pcos_exercise_count['PCOS'] = pcos_exercise_count['PCOS'].map({0: 'No PCOS', 1: 'PCOS'})\n",
    "pcos_exercise_count['ExerciseRegularity'] = pcos_exercise_count['ExerciseRegularity'].map({0: 'No Exercise', 1: 'Regular Exercise'})\n",
    "\n",
    "# Create a bar plot with custom colors for Exercise Regularity\n",
    "fig = px.bar(pcos_exercise_count, \n",
    "             x='PCOS', y='count', color='ExerciseRegularity', \n",
    "             title='PCOS vs Exercise Regularity Relationship',\n",
    "             labels={'PCOS': 'PCOS Status', 'count': 'Count'},\n",
    "             barmode='group',  # Grouped bar plot\n",
    "             color_discrete_map={'No Exercise': 'blue', 'Regular Exercise': 'orange'}) \n",
    "\n",
    "# Show the plot\n",
    "fig.show()\n"
   ]
  },
  {
   "cell_type": "code",
   "execution_count": 80,
   "metadata": {},
   "outputs": [
    {
     "name": "stderr",
     "output_type": "stream",
     "text": [
      "C:\\Users\\hp\\AppData\\Local\\Temp\\ipykernel_12476\\255468759.py:4: FutureWarning:\n",
      "\n",
      "The default of observed=False is deprecated and will be changed to True in a future version of pandas. Pass observed=False to retain current behavior or observed=True to adopt the future default and silence this warning.\n",
      "\n"
     ]
    },
    {
     "data": {
      "application/vnd.plotly.v1+json": {
       "config": {
        "plotlyServerURL": "https://plot.ly"
       },
       "data": [
        {
         "alignmentgroup": "True",
         "hovertemplate": "Acne=No Acne<br>PCOS Status=%{x}<br>Count=%{y}<extra></extra>",
         "legendgroup": "No Acne",
         "marker": {
          "color": "blue",
          "pattern": {
           "shape": ""
          }
         },
         "name": "No Acne",
         "offsetgroup": "No Acne",
         "orientation": "v",
         "showlegend": true,
         "textposition": "auto",
         "type": "bar",
         "x": [
          "No PCOS",
          "PCOS"
         ],
         "xaxis": "x",
         "y": [
          225,
          48
         ],
         "yaxis": "y"
        },
        {
         "alignmentgroup": "True",
         "hovertemplate": "Acne=Acne<br>PCOS Status=%{x}<br>Count=%{y}<extra></extra>",
         "legendgroup": "Acne",
         "marker": {
          "color": "orange",
          "pattern": {
           "shape": ""
          }
         },
         "name": "Acne",
         "offsetgroup": "Acne",
         "orientation": "v",
         "showlegend": true,
         "textposition": "auto",
         "type": "bar",
         "x": [
          "No PCOS",
          "PCOS"
         ],
         "xaxis": "x",
         "y": [
          138,
          54
         ],
         "yaxis": "y"
        }
       ],
       "layout": {
        "barmode": "group",
        "legend": {
         "title": {
          "text": "Acne"
         },
         "tracegroupgap": 0
        },
        "template": {
         "data": {
          "candlestick": [
           {
            "decreasing": {
             "line": {
              "color": "#000033"
             }
            },
            "increasing": {
             "line": {
              "color": "#000032"
             }
            },
            "type": "candlestick"
           }
          ],
          "contour": [
           {
            "colorscale": [
             [
              0,
              "#000011"
             ],
             [
              0.1111111111111111,
              "#000012"
             ],
             [
              0.2222222222222222,
              "#000013"
             ],
             [
              0.3333333333333333,
              "#000014"
             ],
             [
              0.4444444444444444,
              "#000015"
             ],
             [
              0.5555555555555556,
              "#000016"
             ],
             [
              0.6666666666666666,
              "#000017"
             ],
             [
              0.7777777777777778,
              "#000018"
             ],
             [
              0.8888888888888888,
              "#000019"
             ],
             [
              1,
              "#000020"
             ]
            ],
            "type": "contour"
           }
          ],
          "contourcarpet": [
           {
            "colorscale": [
             [
              0,
              "#000011"
             ],
             [
              0.1111111111111111,
              "#000012"
             ],
             [
              0.2222222222222222,
              "#000013"
             ],
             [
              0.3333333333333333,
              "#000014"
             ],
             [
              0.4444444444444444,
              "#000015"
             ],
             [
              0.5555555555555556,
              "#000016"
             ],
             [
              0.6666666666666666,
              "#000017"
             ],
             [
              0.7777777777777778,
              "#000018"
             ],
             [
              0.8888888888888888,
              "#000019"
             ],
             [
              1,
              "#000020"
             ]
            ],
            "type": "contourcarpet"
           }
          ],
          "heatmap": [
           {
            "colorscale": [
             [
              0,
              "#000011"
             ],
             [
              0.1111111111111111,
              "#000012"
             ],
             [
              0.2222222222222222,
              "#000013"
             ],
             [
              0.3333333333333333,
              "#000014"
             ],
             [
              0.4444444444444444,
              "#000015"
             ],
             [
              0.5555555555555556,
              "#000016"
             ],
             [
              0.6666666666666666,
              "#000017"
             ],
             [
              0.7777777777777778,
              "#000018"
             ],
             [
              0.8888888888888888,
              "#000019"
             ],
             [
              1,
              "#000020"
             ]
            ],
            "type": "heatmap"
           }
          ],
          "histogram2d": [
           {
            "colorscale": [
             [
              0,
              "#000011"
             ],
             [
              0.1111111111111111,
              "#000012"
             ],
             [
              0.2222222222222222,
              "#000013"
             ],
             [
              0.3333333333333333,
              "#000014"
             ],
             [
              0.4444444444444444,
              "#000015"
             ],
             [
              0.5555555555555556,
              "#000016"
             ],
             [
              0.6666666666666666,
              "#000017"
             ],
             [
              0.7777777777777778,
              "#000018"
             ],
             [
              0.8888888888888888,
              "#000019"
             ],
             [
              1,
              "#000020"
             ]
            ],
            "type": "histogram2d"
           }
          ],
          "icicle": [
           {
            "textfont": {
             "color": "white"
            },
            "type": "icicle"
           }
          ],
          "sankey": [
           {
            "textfont": {
             "color": "#000036"
            },
            "type": "sankey"
           }
          ],
          "scatter": [
           {
            "marker": {
             "line": {
              "width": 0
             }
            },
            "type": "scatter"
           }
          ],
          "table": [
           {
            "cells": {
             "fill": {
              "color": "#000038"
             },
             "font": {
              "color": "#000037"
             },
             "line": {
              "color": "#000039"
             }
            },
            "header": {
             "fill": {
              "color": "#000040"
             },
             "font": {
              "color": "#000036"
             },
             "line": {
              "color": "#000039"
             }
            },
            "type": "table"
           }
          ],
          "waterfall": [
           {
            "connector": {
             "line": {
              "color": "#000036",
              "width": 2
             }
            },
            "decreasing": {
             "marker": {
              "color": "#000033"
             }
            },
            "increasing": {
             "marker": {
              "color": "#000032"
             }
            },
            "totals": {
             "marker": {
              "color": "#000034"
             }
            },
            "type": "waterfall"
           }
          ]
         },
         "layout": {
          "coloraxis": {
           "colorscale": [
            [
             0,
             "#000011"
            ],
            [
             0.1111111111111111,
             "#000012"
            ],
            [
             0.2222222222222222,
             "#000013"
            ],
            [
             0.3333333333333333,
             "#000014"
            ],
            [
             0.4444444444444444,
             "#000015"
            ],
            [
             0.5555555555555556,
             "#000016"
            ],
            [
             0.6666666666666666,
             "#000017"
            ],
            [
             0.7777777777777778,
             "#000018"
            ],
            [
             0.8888888888888888,
             "#000019"
            ],
            [
             1,
             "#000020"
            ]
           ]
          },
          "colorscale": {
           "diverging": [
            [
             0,
             "#000021"
            ],
            [
             0.1,
             "#000022"
            ],
            [
             0.2,
             "#000023"
            ],
            [
             0.3,
             "#000024"
            ],
            [
             0.4,
             "#000025"
            ],
            [
             0.5,
             "#000026"
            ],
            [
             0.6,
             "#000027"
            ],
            [
             0.7,
             "#000028"
            ],
            [
             0.8,
             "#000029"
            ],
            [
             0.9,
             "#000030"
            ],
            [
             1,
             "#000031"
            ]
           ],
           "sequential": [
            [
             0,
             "#000011"
            ],
            [
             0.1111111111111111,
             "#000012"
            ],
            [
             0.2222222222222222,
             "#000013"
            ],
            [
             0.3333333333333333,
             "#000014"
            ],
            [
             0.4444444444444444,
             "#000015"
            ],
            [
             0.5555555555555556,
             "#000016"
            ],
            [
             0.6666666666666666,
             "#000017"
            ],
            [
             0.7777777777777778,
             "#000018"
            ],
            [
             0.8888888888888888,
             "#000019"
            ],
            [
             1,
             "#000020"
            ]
           ],
           "sequentialminus": [
            [
             0,
             "#000011"
            ],
            [
             0.1111111111111111,
             "#000012"
            ],
            [
             0.2222222222222222,
             "#000013"
            ],
            [
             0.3333333333333333,
             "#000014"
            ],
            [
             0.4444444444444444,
             "#000015"
            ],
            [
             0.5555555555555556,
             "#000016"
            ],
            [
             0.6666666666666666,
             "#000017"
            ],
            [
             0.7777777777777778,
             "#000018"
            ],
            [
             0.8888888888888888,
             "#000019"
            ],
            [
             1,
             "#000020"
            ]
           ]
          },
          "colorway": [
           "#000001",
           "#000002",
           "#000003",
           "#000004",
           "#000005",
           "#000006",
           "#000007",
           "#000008",
           "#000009",
           "#000010"
          ]
         }
        },
        "title": {
         "text": "PCOS vs Acne Relationship"
        },
        "xaxis": {
         "anchor": "y",
         "domain": [
          0,
          1
         ],
         "title": {
          "text": "PCOS Status"
         }
        },
        "yaxis": {
         "anchor": "x",
         "domain": [
          0,
          1
         ],
         "title": {
          "text": "Count"
         }
        }
       }
      }
     },
     "metadata": {},
     "output_type": "display_data"
    }
   ],
   "source": [
    "import plotly.express as px\n",
    "\n",
    "# Group by PCOS and Acne and count the occurrences\n",
    "pcos_acne_count = df.groupby(['PCOS', 'Acne']).size().reset_index(name='count')\n",
    "\n",
    "# Map values for better readability\n",
    "pcos_acne_count['PCOS'] = pcos_acne_count['PCOS'].map({0: 'No PCOS', 1: 'PCOS'})\n",
    "pcos_acne_count['Acne'] = pcos_acne_count['Acne'].map({0: 'No Acne', 1: 'Acne'})\n",
    "\n",
    "# Create a bar plot with custom colors for Acne\n",
    "fig = px.bar(pcos_acne_count, \n",
    "             x='PCOS', y='count', color='Acne', \n",
    "             title='PCOS vs Acne Relationship',\n",
    "             labels={'PCOS': 'PCOS Status', 'count': 'Count'},\n",
    "             barmode='group',  # Grouped bar plot\n",
    "             color_discrete_map={'No Acne': 'blue', 'Acne': 'orange'}) \n",
    "\n",
    "# Show the plot\n",
    "fig.show()\n"
   ]
  },
  {
   "cell_type": "code",
   "execution_count": 81,
   "metadata": {},
   "outputs": [
    {
     "data": {
      "image/png": "[encoded data removed]",
      "text/plain": [
       "<Figure size 500x300 with 1 Axes>"
      ]
     },
     "metadata": {},
     "output_type": "display_data"
    }
   ],
   "source": [
    "plt.figure(figsize=(5,3))\n",
    "sns.countplot(x='HairLoss', data=df)\n",
    "plt.title('Hair Loss')\n",
    "plt.xlabel('Hair Loss')\n",
    "plt.ylabel('Count')\n",
    "plt.xticks(rotation=45)\n",
    "plt.show()\n"
   ]
  },
  {
   "cell_type": "code",
   "execution_count": 82,
   "metadata": {},
   "outputs": [
    {
     "name": "stdout",
     "output_type": "stream",
     "text": [
      "Age                            int64\n",
      "Weight (in Kg)               float64\n",
      "Height                       float64\n",
      " blood group                category\n",
      "MenstrualCycleRegularity    category\n",
      "RecentWeightChange          category\n",
      "Hirsutism                   category\n",
      "SkinDarkening               category\n",
      "HairLoss                    category\n",
      "Acne                        category\n",
      "FastFoodConsumption         category\n",
      "ExerciseRegularity          category\n",
      "PCOS                        category\n",
      "MoodSwings                  category\n",
      "PeriodDuration                 int64\n",
      "dtype: object\n",
      "Unique values and counts for Age:\n",
      "Age\n",
      "21    70\n",
      "20    56\n",
      "19    34\n",
      "23    30\n",
      "25    29\n",
      "22    26\n",
      "24    20\n",
      "18    20\n",
      "26    17\n",
      "27    17\n",
      "17    14\n",
      "30    13\n",
      "16     9\n",
      "28     8\n",
      "37     8\n",
      "38     8\n",
      "45     8\n",
      "29     8\n",
      "42     7\n",
      "34     6\n",
      "40     6\n",
      "32     6\n",
      "39     5\n",
      "36     5\n",
      "35     5\n",
      "43     4\n",
      "47     4\n",
      "48     3\n",
      "33     3\n",
      "41     2\n",
      "15     2\n",
      "31     2\n",
      "46     2\n",
      "44     1\n",
      "52     1\n",
      "58     1\n",
      "54     1\n",
      "50     1\n",
      "14     1\n",
      "51     1\n",
      "13     1\n",
      "Name: count, dtype: int64\n",
      "\n",
      "\n",
      "Unique values and counts for Weight (in Kg):\n",
      "Weight (in Kg)\n",
      "65.0     33\n",
      "50.0     29\n",
      "60.0     28\n",
      "58.0     22\n",
      "55.0     22\n",
      "         ..\n",
      "100.0     1\n",
      "53.5      1\n",
      "77.0      1\n",
      "88.0      1\n",
      "35.0      1\n",
      "Name: count, Length: 62, dtype: int64\n",
      "\n",
      "\n",
      "Unique values and counts for Height:\n",
      "Height\n",
      "157.00    54\n",
      "160.00    54\n",
      "162.00    51\n",
      "165.00    43\n",
      "152.00    42\n",
      "154.00    35\n",
      "167.00    21\n",
      "150.00    19\n",
      "163.00    13\n",
      "153.00    10\n",
      "170.00    10\n",
      "155.00    10\n",
      "164.00     9\n",
      "168.00     8\n",
      "156.00     8\n",
      "144.00     7\n",
      "172.00     7\n",
      "159.00     7\n",
      "142.00     6\n",
      "161.00     6\n",
      "151.00     4\n",
      "166.00     4\n",
      "173.00     4\n",
      "149.00     3\n",
      "183.00     3\n",
      "158.00     3\n",
      "169.00     3\n",
      "147.00     2\n",
      "140.00     2\n",
      "176.00     2\n",
      "145.00     2\n",
      "175.00     2\n",
      "171.00     2\n",
      "186.00     1\n",
      "51.00      1\n",
      "146.00     1\n",
      "13.46      1\n",
      "143.00     1\n",
      "148.00     1\n",
      "4.00       1\n",
      "4.70       1\n",
      "174.00     1\n",
      "Name: count, dtype: int64\n",
      "\n",
      "\n",
      "Unique values and counts for  blood group:\n",
      " blood group\n",
      "13    190\n",
      "15    143\n",
      "11    100\n",
      "14     16\n",
      "16      9\n",
      "12      7\n",
      "Name: count, dtype: int64\n",
      "\n",
      "\n",
      "Unique values and counts for MenstrualCycleRegularity:\n",
      "MenstrualCycleRegularity\n",
      "1    390\n",
      "2     47\n",
      "3     28\n",
      "Name: count, dtype: int64\n",
      "\n",
      "\n",
      "Unique values and counts for RecentWeightChange:\n",
      "RecentWeightChange\n",
      "1    233\n",
      "0    232\n",
      "Name: count, dtype: int64\n",
      "\n",
      "\n",
      "Unique values and counts for Hirsutism:\n",
      "Hirsutism\n",
      "0    342\n",
      "1    123\n",
      "Name: count, dtype: int64\n",
      "\n",
      "\n",
      "Unique values and counts for SkinDarkening:\n",
      "SkinDarkening\n",
      "0    308\n",
      "1    157\n",
      "Name: count, dtype: int64\n",
      "\n",
      "\n",
      "Unique values and counts for HairLoss:\n",
      "HairLoss\n",
      "1    288\n",
      "0    177\n",
      "Name: count, dtype: int64\n",
      "\n",
      "\n",
      "Unique values and counts for Acne:\n",
      "Acne\n",
      "0    273\n",
      "1    192\n",
      "Name: count, dtype: int64\n",
      "\n",
      "\n",
      "Unique values and counts for FastFoodConsumption:\n",
      "FastFoodConsumption\n",
      "0    298\n",
      "1    167\n",
      "Name: count, dtype: int64\n",
      "\n",
      "\n",
      "Unique values and counts for ExerciseRegularity:\n",
      "ExerciseRegularity\n",
      "0    332\n",
      "1    133\n",
      "Name: count, dtype: int64\n",
      "\n",
      "\n",
      "Unique values and counts for PCOS:\n",
      "PCOS\n",
      "0    363\n",
      "1    102\n",
      "Name: count, dtype: int64\n",
      "\n",
      "\n",
      "Unique values and counts for MoodSwings:\n",
      "MoodSwings\n",
      "1    354\n",
      "0    111\n",
      "Name: count, dtype: int64\n",
      "\n",
      "\n",
      "Unique values and counts for PeriodDuration:\n",
      "PeriodDuration\n",
      "5     144\n",
      "4     142\n",
      "3      62\n",
      "6      58\n",
      "7      22\n",
      "2      16\n",
      "8       7\n",
      "1       6\n",
      "10      4\n",
      "0       2\n",
      "15      1\n",
      "14      1\n",
      "Name: count, dtype: int64\n",
      "\n",
      "\n"
     ]
    }
   ],
   "source": [
    "# Check data types of each column\n",
    "print(df.dtypes)\n",
    "\n",
    "# Check unique values and their counts for each column\n",
    "for column in df.columns:\n",
    "    print(f\"Unique values and counts for {column}:\")\n",
    "    print(df[column].value_counts())\n",
    "    print(\"\\n\")\n",
    "\n",
    "#print(df.columns)\n",
    "\n",
    "\n"
   ]
  },
  {
   "cell_type": "code",
   "execution_count": 83,
   "metadata": {},
   "outputs": [
    {
     "name": "stdout",
     "output_type": "stream",
     "text": [
      "      PCOS  Weight (in Kg)\n",
      "0  No PCOS       58.127548\n",
      "1     PCOS       63.411765\n"
     ]
    },
    {
     "name": "stderr",
     "output_type": "stream",
     "text": [
      "C:\\Users\\hp\\AppData\\Local\\Temp\\ipykernel_12476\\1642798161.py:2: FutureWarning:\n",
      "\n",
      "The default of observed=False is deprecated and will be changed to True in a future version of pandas. Pass observed=False to retain current behavior or observed=True to adopt the future default and silence this warning.\n",
      "\n",
      "C:\\Users\\hp\\AppData\\Local\\Temp\\ipykernel_12476\\1642798161.py:11: FutureWarning:\n",
      "\n",
      "\n",
      "\n",
      "Passing `palette` without assigning `hue` is deprecated and will be removed in v0.14.0. Assign the `x` variable to `hue` and set `legend=False` for the same effect.\n",
      "\n",
      "\n"
     ]
    },
    {
     "data": {
      "image/png": "[encoded data removed]",
      "text/plain": [
       "<Figure size 640x480 with 1 Axes>"
      ]
     },
     "metadata": {},
     "output_type": "display_data"
    }
   ],
   "source": [
    "# Group by PCOS and calculate mean weight\n",
    "mean_weight_pcos = df.groupby('PCOS')['Weight (in Kg)'].mean().reset_index()\n",
    "\n",
    "# Map values for better readability\n",
    "mean_weight_pcos['PCOS'] = mean_weight_pcos['PCOS'].map({0: 'No PCOS', 1: 'PCOS'})\n",
    "\n",
    "# Display grouped data\n",
    "print(mean_weight_pcos)\n",
    "\n",
    "# Visualization\n",
    "sns.barplot(data=mean_weight_pcos, x='PCOS', y='Weight (in Kg)', palette='Blues')\n",
    "plt.title('Mean Weight by PCOS Status')\n",
    "plt.xlabel('PCOS Status')\n",
    "plt.ylabel('Mean Weight (in Kg)')\n",
    "plt.show()\n"
   ]
  },
  {
   "cell_type": "code",
   "execution_count": 84,
   "metadata": {},
   "outputs": [
    {
     "name": "stderr",
     "output_type": "stream",
     "text": [
      "C:\\Users\\hp\\AppData\\Local\\Temp\\ipykernel_12476\\158048561.py:2: FutureWarning:\n",
      "\n",
      "The default of observed=False is deprecated and will be changed to True in a future version of pandas. Pass observed=False to retain current behavior or observed=True to adopt the future default and silence this warning.\n",
      "\n"
     ]
    },
    {
     "name": "stdout",
     "output_type": "stream",
     "text": [
      "      Acne     PCOS  count\n",
      "0  No Acne  No PCOS    225\n",
      "1  No Acne     PCOS     48\n",
      "2     Acne  No PCOS    138\n",
      "3     Acne     PCOS     54\n"
     ]
    },
    {
     "data": {
      "image/png": "[encoded data removed]",
      "text/plain": [
       "<Figure size 640x480 with 1 Axes>"
      ]
     },
     "metadata": {},
     "output_type": "display_data"
    }
   ],
   "source": [
    "# Group by Acne and PCOS and count occurrences\n",
    "acne_pcos_count = df.groupby(['Acne', 'PCOS']).size().reset_index(name='count')\n",
    "\n",
    "# Map values for better readability\n",
    "acne_pcos_count['Acne'] = acne_pcos_count['Acne'].map({0: 'No Acne', 1: 'Acne'})\n",
    "acne_pcos_count['PCOS'] = acne_pcos_count['PCOS'].map({0: 'No PCOS', 1: 'PCOS'})\n",
    "\n",
    "# Display grouped data\n",
    "print(acne_pcos_count)\n",
    "\n",
    "# Visualization\n",
    "sns.barplot(data=acne_pcos_count, x='Acne', y='count', hue='PCOS', palette='coolwarm')\n",
    "plt.title('Acne vs PCOS')\n",
    "plt.xlabel('Acne Status')\n",
    "plt.ylabel('Count')\n",
    "plt.legend(title='PCOS Status')\n",
    "plt.show()\n"
   ]
  },
  {
   "cell_type": "code",
   "execution_count": 85,
   "metadata": {},
   "outputs": [
    {
     "name": "stderr",
     "output_type": "stream",
     "text": [
      "C:\\Users\\hp\\AppData\\Local\\Temp\\ipykernel_12476\\1311749205.py:5: FutureWarning:\n",
      "\n",
      "The default of observed=False is deprecated and will be changed to True in a future version of pandas. Pass observed=False to retain current behavior or observed=True to adopt the future default and silence this warning.\n",
      "\n"
     ]
    },
    {
     "name": "stdout",
     "output_type": "stream",
     "text": [
      "      Hirsutism     PCOS  count\n",
      "0  No Hirsutism  No PCOS    294\n",
      "1  No Hirsutism     PCOS     48\n",
      "2     Hirsutism  No PCOS     69\n",
      "3     Hirsutism     PCOS     54\n"
     ]
    },
    {
     "data": {
      "image/png": "[encoded data removed]",
      "text/plain": [
       "<Figure size 640x480 with 1 Axes>"
      ]
     },
     "metadata": {},
     "output_type": "display_data"
    }
   ],
   "source": [
    "import seaborn as sns\n",
    "import matplotlib.pyplot as plt\n",
    "\n",
    "# Group by Hirsutism and PCOS and count occurrences\n",
    "pcos_hirsutism_count = df.groupby(['Hirsutism', 'PCOS']).size().reset_index(name='count')\n",
    "\n",
    "# Map values for better readability\n",
    "pcos_hirsutism_count['Hirsutism'] = pcos_hirsutism_count['Hirsutism'].map({0: 'No Hirsutism', 1: 'Hirsutism'})\n",
    "pcos_hirsutism_count['PCOS'] = pcos_hirsutism_count['PCOS'].map({0: 'No PCOS', 1: 'PCOS'})\n",
    "\n",
    "# Display grouped data\n",
    "print(pcos_hirsutism_count)\n",
    "\n",
    "# Visualization\n",
    "sns.barplot(data=pcos_hirsutism_count, x='Hirsutism', y='count', hue='PCOS', palette='coolwarm')\n",
    "plt.title('PCOS vs Hirsutism')\n",
    "plt.xlabel('Hirsutism Status')\n",
    "plt.ylabel('Count')\n",
    "plt.legend(title='PCOS Status')\n",
    "plt.show()\n"
   ]
  },
  {
   "cell_type": "code",
   "execution_count": 86,
   "metadata": {},
   "outputs": [
    {
     "name": "stderr",
     "output_type": "stream",
     "text": [
      "C:\\Users\\hp\\AppData\\Local\\Temp\\ipykernel_12476\\960440518.py:2: FutureWarning:\n",
      "\n",
      "The default of observed=False is deprecated and will be changed to True in a future version of pandas. Pass observed=False to retain current behavior or observed=True to adopt the future default and silence this warning.\n",
      "\n"
     ]
    },
    {
     "data": {
      "image/png": "[encoded data removed]",
      "text/plain": [
       "<Figure size 640x480 with 1 Axes>"
      ]
     },
     "metadata": {},
     "output_type": "display_data"
    }
   ],
   "source": [
    "# Group by Skin Darkening and PCOS and count occurrences\n",
    "pcos_skin_count = df.groupby(['SkinDarkening', 'PCOS']).size().reset_index(name='count')\n",
    "\n",
    "# Map values for better readability\n",
    "pcos_skin_count['SkinDarkening'] = pcos_skin_count['SkinDarkening'].map({0: 'No Skin Darkening', 1: 'Skin Darkening'})\n",
    "pcos_skin_count['PCOS'] = pcos_skin_count['PCOS'].map({0: 'No PCOS', 1: 'PCOS'})\n",
    "\n",
    "# Visualization\n",
    "sns.barplot(data=pcos_skin_count, x='SkinDarkening', y='count', hue='PCOS', palette='viridis')\n",
    "plt.title('PCOS vs Skin Darkening')\n",
    "plt.xlabel('Skin Darkening Status')\n",
    "plt.ylabel('Count')\n",
    "plt.legend(title='PCOS Status')\n",
    "plt.show()\n"
   ]
  },
  {
   "cell_type": "code",
   "execution_count": 87,
   "metadata": {},
   "outputs": [
    {
     "name": "stderr",
     "output_type": "stream",
     "text": [
      "C:\\Users\\hp\\AppData\\Local\\Temp\\ipykernel_12476\\513779387.py:2: FutureWarning:\n",
      "\n",
      "The default of observed=False is deprecated and will be changed to True in a future version of pandas. Pass observed=False to retain current behavior or observed=True to adopt the future default and silence this warning.\n",
      "\n"
     ]
    },
    {
     "data": {
      "image/png": "[encoded data removed]",
      "text/plain": [
       "<Figure size 640x480 with 1 Axes>"
      ]
     },
     "metadata": {},
     "output_type": "display_data"
    }
   ],
   "source": [
    "# Group by Hair Loss and PCOS and count occurrences\n",
    "pcos_hairloss_count = df.groupby(['HairLoss', 'PCOS']).size().reset_index(name='count')\n",
    "\n",
    "# Map values for better readability\n",
    "pcos_hairloss_count['HairLoss'] = pcos_hairloss_count['HairLoss'].map({0: 'No Hair Loss', 1: 'Hair Loss'})\n",
    "pcos_hairloss_count['PCOS'] = pcos_hairloss_count['PCOS'].map({0: 'No PCOS', 1: 'PCOS'})\n",
    "\n",
    "# Visualization\n",
    "sns.barplot(data=pcos_hairloss_count, x='HairLoss', y='count', hue='PCOS', palette='magma')\n",
    "plt.title('PCOS vs Hair Loss')\n",
    "plt.xlabel('Hair Loss Status')\n",
    "plt.ylabel('Count')\n",
    "plt.legend(title='PCOS Status')\n",
    "plt.show()\n"
   ]
  },
  {
   "cell_type": "code",
   "execution_count": 88,
   "metadata": {},
   "outputs": [
    {
     "name": "stderr",
     "output_type": "stream",
     "text": [
      "C:\\Users\\hp\\AppData\\Local\\Temp\\ipykernel_12476\\606137131.py:2: FutureWarning:\n",
      "\n",
      "The default of observed=False is deprecated and will be changed to True in a future version of pandas. Pass observed=False to retain current behavior or observed=True to adopt the future default and silence this warning.\n",
      "\n"
     ]
    },
    {
     "data": {
      "image/png": "[encoded data removed]",
      "text/plain": [
       "<Figure size 640x480 with 1 Axes>"
      ]
     },
     "metadata": {},
     "output_type": "display_data"
    }
   ],
   "source": [
    "# Group by Fast Food Consumption and PCOS and count occurrences\n",
    "pcos_fastfood_count = df.groupby(['FastFoodConsumption', 'PCOS']).size().reset_index(name='count')\n",
    "\n",
    "# Map values for better readability\n",
    "pcos_fastfood_count['FastFoodConsumption'] = pcos_fastfood_count['FastFoodConsumption'].map({0: 'No Fast Food', 1: 'Fast Food'})\n",
    "pcos_fastfood_count['PCOS'] = pcos_fastfood_count['PCOS'].map({0: 'No PCOS', 1: 'PCOS'})\n",
    "\n",
    "# Visualization\n",
    "sns.barplot(data=pcos_fastfood_count, x='FastFoodConsumption', y='count', hue='PCOS', palette='coolwarm')\n",
    "plt.title('PCOS vs Fast Food Consumption')\n",
    "plt.xlabel('Fast Food Consumption')\n",
    "plt.ylabel('Count')\n",
    "plt.legend(title='PCOS Status')\n",
    "plt.show()\n"
   ]
  },
  {
   "cell_type": "code",
   "execution_count": 89,
   "metadata": {},
   "outputs": [
    {
     "name": "stderr",
     "output_type": "stream",
     "text": [
      "C:\\Users\\hp\\AppData\\Local\\Temp\\ipykernel_12476\\3867233916.py:2: FutureWarning:\n",
      "\n",
      "The default of observed=False is deprecated and will be changed to True in a future version of pandas. Pass observed=False to retain current behavior or observed=True to adopt the future default and silence this warning.\n",
      "\n"
     ]
    },
    {
     "data": {
      "image/png": "[encoded data removed]",
      "text/plain": [
       "<Figure size 640x480 with 1 Axes>"
      ]
     },
     "metadata": {},
     "output_type": "display_data"
    }
   ],
   "source": [
    "# Group by MenstrualCycleRegularity and PCOS and count occurrences\n",
    "pcos_menstrual_count = df.groupby(['MenstrualCycleRegularity', 'PCOS']).size().reset_index(name='count')\n",
    "\n",
    "# Map values for better readability\n",
    "pcos_menstrual_count['MenstrualCycleRegularity'] = pcos_menstrual_count['MenstrualCycleRegularity'].map({0: 'Irregular', 1: 'Regular'})\n",
    "pcos_menstrual_count['PCOS'] = pcos_menstrual_count['PCOS'].map({0: 'No PCOS', 1: 'PCOS'})\n",
    "\n",
    "# Visualization\n",
    "sns.barplot(data=pcos_menstrual_count, x='MenstrualCycleRegularity', y='count', hue='PCOS', palette='pastel')\n",
    "plt.title('PCOS vs Menstrual Cycle Regularity')\n",
    "plt.xlabel('Menstrual Cycle Regularity')\n",
    "plt.ylabel('Count')\n",
    "plt.legend(title='PCOS Status')\n",
    "plt.show()\n"
   ]
  },
  {
   "cell_type": "code",
   "execution_count": 90,
   "metadata": {},
   "outputs": [
    {
     "name": "stdout",
     "output_type": "stream",
     "text": [
      "Significant relationships found:\n",
      "-  blood group and MoodSwings (p=0.0171)\n",
      "- MenstrualCycleRegularity and RecentWeightChange (p=0.0061)\n",
      "- MenstrualCycleRegularity and Hirsutism (p=0.0000)\n",
      "- MenstrualCycleRegularity and SkinDarkening (p=0.0000)\n",
      "- MenstrualCycleRegularity and PCOS (p=0.0000)\n",
      "- RecentWeightChange and MenstrualCycleRegularity (p=0.0061)\n",
      "- RecentWeightChange and Hirsutism (p=0.0000)\n",
      "- RecentWeightChange and SkinDarkening (p=0.0000)\n",
      "- RecentWeightChange and HairLoss (p=0.0067)\n",
      "- RecentWeightChange and Acne (p=0.0334)\n",
      "- RecentWeightChange and FastFoodConsumption (p=0.0042)\n",
      "- RecentWeightChange and PCOS (p=0.0001)\n",
      "- RecentWeightChange and MoodSwings (p=0.0277)\n",
      "- Hirsutism and MenstrualCycleRegularity (p=0.0000)\n",
      "- Hirsutism and RecentWeightChange (p=0.0000)\n",
      "- Hirsutism and SkinDarkening (p=0.0000)\n",
      "- Hirsutism and HairLoss (p=0.0076)\n",
      "- Hirsutism and Acne (p=0.0000)\n",
      "- Hirsutism and PCOS (p=0.0000)\n",
      "- Hirsutism and MoodSwings (p=0.0150)\n",
      "- SkinDarkening and MenstrualCycleRegularity (p=0.0000)\n",
      "- SkinDarkening and RecentWeightChange (p=0.0000)\n",
      "- SkinDarkening and Hirsutism (p=0.0000)\n",
      "- SkinDarkening and HairLoss (p=0.0000)\n",
      "- SkinDarkening and Acne (p=0.0009)\n",
      "- SkinDarkening and PCOS (p=0.0000)\n",
      "- SkinDarkening and MoodSwings (p=0.0000)\n",
      "- HairLoss and RecentWeightChange (p=0.0067)\n",
      "- HairLoss and Hirsutism (p=0.0076)\n",
      "- HairLoss and SkinDarkening (p=0.0000)\n",
      "- HairLoss and Acne (p=0.0000)\n",
      "- HairLoss and ExerciseRegularity (p=0.0065)\n",
      "- HairLoss and PCOS (p=0.0089)\n",
      "- HairLoss and MoodSwings (p=0.0117)\n",
      "- Acne and RecentWeightChange (p=0.0334)\n",
      "- Acne and Hirsutism (p=0.0000)\n",
      "- Acne and SkinDarkening (p=0.0009)\n",
      "- Acne and HairLoss (p=0.0000)\n",
      "- Acne and FastFoodConsumption (p=0.0078)\n",
      "- Acne and PCOS (p=0.0096)\n",
      "- Acne and MoodSwings (p=0.0007)\n",
      "- FastFoodConsumption and RecentWeightChange (p=0.0042)\n",
      "- FastFoodConsumption and Acne (p=0.0078)\n",
      "- FastFoodConsumption and MoodSwings (p=0.0100)\n",
      "- ExerciseRegularity and HairLoss (p=0.0065)\n",
      "- PCOS and MenstrualCycleRegularity (p=0.0000)\n",
      "- PCOS and RecentWeightChange (p=0.0001)\n",
      "- PCOS and Hirsutism (p=0.0000)\n",
      "- PCOS and SkinDarkening (p=0.0000)\n",
      "- PCOS and HairLoss (p=0.0089)\n",
      "- PCOS and Acne (p=0.0096)\n",
      "- PCOS and MoodSwings (p=0.0200)\n",
      "- MoodSwings and  blood group (p=0.0171)\n",
      "- MoodSwings and RecentWeightChange (p=0.0277)\n",
      "- MoodSwings and Hirsutism (p=0.0150)\n",
      "- MoodSwings and SkinDarkening (p=0.0000)\n",
      "- MoodSwings and HairLoss (p=0.0117)\n",
      "- MoodSwings and Acne (p=0.0007)\n",
      "- MoodSwings and FastFoodConsumption (p=0.0100)\n",
      "- MoodSwings and PCOS (p=0.0200)\n"
     ]
    }
   ],
   "source": [
    "from scipy.stats import chi2_contingency\n",
    "\n",
    "# List of categorical columns\n",
    "categorical_cols = [' blood group', 'MenstrualCycleRegularity', 'RecentWeightChange', 'Hirsutism',\n",
    "                    'SkinDarkening', 'HairLoss', 'Acne', 'FastFoodConsumption',\n",
    "                    'ExerciseRegularity', 'PCOS', 'MoodSwings']\n",
    "\n",
    "# Dictionary to store significant relationships\n",
    "significant_relationships = []\n",
    "\n",
    "# Pairwise chi-square tests\n",
    "for col1 in categorical_cols:\n",
    "    for col2 in categorical_cols:\n",
    "        if col1 != col2:\n",
    "            contingency_table = pd.crosstab(df[col1], df[col2])\n",
    "            chi2, p, dof, expected = chi2_contingency(contingency_table)\n",
    "            if p < 0.05:  # Significant relationship\n",
    "                significant_relationships.append((col1, col2, p))\n",
    "\n",
    "# Display significant relationships\n",
    "if significant_relationships:\n",
    "    print(\"Significant relationships found:\")\n",
    "    for col1, col2, p in significant_relationships:\n",
    "        print(f\"- {col1} and {col2} (p={p:.4f})\")\n",
    "else:\n",
    "    print(\"No significant relationships found.\")\n"
   ]
  },
  {
   "cell_type": "code",
   "execution_count": 91,
   "metadata": {},
   "outputs": [
    {
     "data": {
      "image/png": "[encoded data removed]",
      "text/plain": [
       "<Figure size 1000x800 with 2 Axes>"
      ]
     },
     "metadata": {},
     "output_type": "display_data"
    },
    {
     "data": {
      "image/png": "[encoded data removed]",
      "text/plain": [
       "<Figure size 1000x800 with 1 Axes>"
      ]
     },
     "metadata": {},
     "output_type": "display_data"
    }
   ],
   "source": [
    "import pandas as pd\n",
    "import seaborn as sns\n",
    "import matplotlib.pyplot as plt\n",
    "from scipy.stats import chi2_contingency\n",
    "import numpy as np\n",
    "\n",
    "# List of categorical columns\n",
    "categorical_cols = [' blood group', 'MenstrualCycleRegularity', 'RecentWeightChange', 'Hirsutism',\n",
    "                    'SkinDarkening', 'HairLoss', 'Acne', 'FastFoodConsumption',\n",
    "                    'ExerciseRegularity', 'PCOS', 'MoodSwings']\n",
    "\n",
    "# Initialize a matrix to store p-values\n",
    "p_values_matrix = pd.DataFrame(np.nan, index=categorical_cols, columns=categorical_cols)\n",
    "\n",
    "# Pairwise chi-square tests\n",
    "for col1 in categorical_cols:\n",
    "    for col2 in categorical_cols:\n",
    "        if col1 != col2:\n",
    "            contingency_table = pd.crosstab(df[col1], df[col2])\n",
    "            chi2, p, dof, expected = chi2_contingency(contingency_table)\n",
    "            p_values_matrix.loc[col1, col2] = p\n",
    "\n",
    "# Mask the upper triangle (since the matrix is symmetric)\n",
    "mask = np.triu(np.ones_like(p_values_matrix, dtype=bool))\n",
    "\n",
    "# Plot the heatmap\n",
    "plt.figure(figsize=(10, 8))\n",
    "sns.heatmap(p_values_matrix.astype(float), annot=True, cmap=\"coolwarm\", mask=mask, \n",
    "            vmin=0, vmax=1, linewidths=0.5, fmt=\".4f\", cbar_kws={'label': 'p-value'})\n",
    "plt.title(\"Chi-square Test p-values Heatmap for Categorical Columns\")\n",
    "plt.show()\n",
    "\n",
    "# Optionally, filter and highlight significant relationships (p-value < 0.05)\n",
    "significant_matrix = p_values_matrix < 0.05\n",
    "\n",
    "# Plot significant relationships heatmap\n",
    "plt.figure(figsize=(10, 8))\n",
    "sns.heatmap(significant_matrix, annot=True, cmap=\"YlGnBu\", mask=mask, \n",
    "            cbar=False, linewidths=0.5, fmt=\"d\")\n",
    "plt.title(\"Significant Relationships (p < 0.05) Heatmap\")\n",
    "plt.show()\n",
    "#print(df.columns)\n"
   ]
  },
  {
   "cell_type": "markdown",
   "metadata": {},
   "source": [
    "DATA PRE-PROCESSING \n"
   ]
  },
  {
   "cell_type": "code",
   "execution_count": 92,
   "metadata": {},
   "outputs": [
    {
     "name": "stdout",
     "output_type": "stream",
     "text": [
      "Age                         0\n",
      "Weight (in Kg)              0\n",
      "Height                      0\n",
      " blood group                0\n",
      "MenstrualCycleRegularity    0\n",
      "RecentWeightChange          0\n",
      "Hirsutism                   0\n",
      "SkinDarkening               0\n",
      "HairLoss                    0\n",
      "Acne                        0\n",
      "FastFoodConsumption         0\n",
      "ExerciseRegularity          0\n",
      "PCOS                        0\n",
      "MoodSwings                  0\n",
      "PeriodDuration              0\n",
      "dtype: int64\n"
     ]
    }
   ],
   "source": [
    "# Check for missing values\n",
    "missing_values = df.isnull().sum()\n",
    "print(missing_values)\n",
    "\n",
    "#since there are no null values in the dataset we will not handle them \n"
   ]
  },
  {
   "cell_type": "code",
   "execution_count": 93,
   "metadata": {},
   "outputs": [
    {
     "data": {
      "text/plain": [
       "'Since my columns contain only 0 and 1 as entries, \\nthere is no need to encode them further. These values are already in a \\nnumerical format representing binary categorical variables, and Random\\nForest models can handle them directly. Since Random Forest can work with \\nbinary variables as distinct categories, there is no need for additional encoding \\nor transformations such as one-hot encoding.'"
      ]
     },
     "execution_count": 93,
     "metadata": {},
     "output_type": "execute_result"
    }
   ],
   "source": [
    "'''Since my columns contain only 0 and 1 as entries, \n",
    "there is no need to encode them further. These values are already in a \n",
    "numerical format representing binary categorical variables, and Random\n",
    "Forest models can handle them directly. Since Random Forest can work with \n",
    "binary variables as distinct categories, there is no need for additional encoding \n",
    "or transformations such as one-hot encoding.'''"
   ]
  },
  {
   "cell_type": "code",
   "execution_count": 94,
   "metadata": {},
   "outputs": [
    {
     "data": {
      "text/plain": [
       "\"from sklearn.preprocessing import StandardScaler\\n\\n# List of numerical columns you want to scale\\nnumerical_columns = ['Age','Weight (in Kg)','Height','PeriodDuration']  # Replace with your actual numerical columns\\n\\n# Initialize StandardScaler (which standardizes features by removing the mean and scaling to unit variance)\\nscaler = StandardScaler()\\n\\n# Apply the scaler to the numerical columns\\ndf[numerical_columns] = scaler.fit_transform(df[numerical_columns])\\n\\n# Check the result\\nprint(df[numerical_columns].head())\""
      ]
     },
     "execution_count": 94,
     "metadata": {},
     "output_type": "execute_result"
    }
   ],
   "source": [
    "'''from sklearn.preprocessing import StandardScaler\n",
    "\n",
    "# List of numerical columns you want to scale\n",
    "numerical_columns = ['Age','Weight (in Kg)','Height','PeriodDuration']  # Replace with your actual numerical columns\n",
    "\n",
    "# Initialize StandardScaler (which standardizes features by removing the mean and scaling to unit variance)\n",
    "scaler = StandardScaler()\n",
    "\n",
    "# Apply the scaler to the numerical columns\n",
    "df[numerical_columns] = scaler.fit_transform(df[numerical_columns])\n",
    "\n",
    "# Check the result\n",
    "print(df[numerical_columns].head())'''\n",
    "##we can do scaling using these but we are using random forest so it is not needed for that \n"
   ]
  },
  {
   "cell_type": "code",
   "execution_count": 95,
   "metadata": {},
   "outputs": [
    {
     "name": "stdout",
     "output_type": "stream",
     "text": [
      "Training features shape: (372, 14)\n",
      "Testing features shape: (93, 14)\n",
      "Training target shape: (372,)\n",
      "Testing target shape: (93,)\n",
      "(465, 15)\n"
     ]
    }
   ],
   "source": [
    "from sklearn.model_selection import train_test_split\n",
    "X = df.drop('PCOS', axis=1)  \n",
    "y = df['PCOS'] \n",
    "\n",
    "# Split the dataset into training (80%) and testing (20%) sets\n",
    "X_train, X_test, y_train, y_test = train_test_split(X, y, test_size=0.2, random_state=42)\n",
    "print(f\"Training features shape: {X_train.shape}\")\n",
    "print(f\"Testing features shape: {X_test.shape}\")\n",
    "print(f\"Training target shape: {y_train.shape}\")\n",
    "print(f\"Testing target shape: {y_test.shape}\")\n",
    "print(df.shape)\n"
   ]
  },
  {
   "cell_type": "markdown",
   "metadata": {},
   "source": [
    "MACHINE LEARNING MODEL \n"
   ]
  },
  {
   "cell_type": "code",
   "execution_count": 101,
   "metadata": {},
   "outputs": [
    {
     "data": {
      "image/png": "[encoded data removed]",
      "text/plain": [
       "<Figure size 500x300 with 1 Axes>"
      ]
     },
     "metadata": {},
     "output_type": "display_data"
    }
   ],
   "source": [
    "from sklearn.ensemble import RandomForestClassifier\n",
    "from sklearn.model_selection import train_test_split\n",
    "import matplotlib.pyplot as plt\n",
    "\n",
    "# Assuming 'df' is your DataFrame and the target column is 'PCOS'\n",
    "X = df.drop(columns=['PCOS'])  # Features\n",
    "y = df['PCOS']  # Target\n",
    "\n",
    "# Split the dataset into training and testing sets\n",
    "X_train, X_test, y_train, y_test = train_test_split(X, y, test_size=0.2, random_state=42)\n",
    "\n",
    "# Initialize and train the Random Forest Classifier\n",
    "rf = RandomForestClassifier(random_state=42)\n",
    "rf.fit(X_train, y_train)\n",
    "\n",
    "# Get feature importances\n",
    "importances = rf.feature_importances_\n",
    "\n",
    "# Sort the features by importance\n",
    "sorted_idx = importances.argsort()\n",
    "\n",
    "# Plot the feature importances\n",
    "plt.figure(figsize=(5,3))\n",
    "plt.barh(range(len(importances)), importances[sorted_idx], align='center')\n",
    "plt.yticks(range(len(importances)), X.columns[sorted_idx])\n",
    "plt.xlabel(\"Feature Importance\")\n",
    "plt.title(\"Feature Importance for PCOS Prediction\")\n",
    "plt.show()\n"
   ]
  },
  {
   "cell_type": "code",
   "execution_count": 127,
   "metadata": {},
   "outputs": [
    {
     "name": "stdout",
     "output_type": "stream",
     "text": [
      "Feature Ranking: [ 1  1  1  3  1  7  2  4  6  5  8  9 10  1]\n",
      "Selected Features: Index(['Age', 'Weight (in Kg)', 'Height', 'MenstrualCycleRegularity',\n",
      "       'PeriodDuration'],\n",
      "      dtype='object')\n",
      "Model Accuracy on Selected Features: 0.8924731182795699\n"
     ]
    }
   ],
   "source": [
    "from sklearn.ensemble import RandomForestClassifier\n",
    "from sklearn.feature_selection import RFE\n",
    "from sklearn.model_selection import train_test_split\n",
    "import pandas as pd\n",
    "\n",
    "# Assuming 'df' is your DataFrame and the target column is 'PCOS'\n",
    "X = df.drop(columns=['PCOS'])  # Features\n",
    "y = df['PCOS']  # Target\n",
    "\n",
    "# Split the dataset into training and testing sets\n",
    "X_train, X_test, y_train, y_test = train_test_split(X, y, test_size=0.2, random_state=42)\n",
    "\n",
    "# Initialize the Random Forest model\n",
    "rf = RandomForestClassifier(random_state=42)\n",
    "\n",
    "# Create the RFE model and select the top N features \n",
    "rfe = RFE(estimator=rf, n_features_to_select=5)  \n",
    "rfe.fit(X_train, y_train)\n",
    "\n",
    "# Print the ranking of features (1 means selected, higher numbers mean less important)\n",
    "print(\"Feature Ranking:\", rfe.ranking_)\n",
    "\n",
    "# Print the selected features\n",
    "selected_features = X.columns[rfe.support_]\n",
    "print(\"Selected Features:\", selected_features)\n",
    "\n",
    "# Optionally, you can retrain a Random Forest model with the selected features\n",
    "X_train_selected = X_train[selected_features]\n",
    "X_test_selected = X_test[selected_features]\n",
    "\n",
    "# Train Random Forest on the selected features\n",
    "rf.fit(X_train_selected, y_train)\n",
    "\n",
    "# Evaluate the model\n",
    "accuracy = rf.score(X_test_selected, y_test)\n",
    "print(f\"Model Accuracy on Selected Features: {accuracy}\")\n",
    "\n"
   ]
  },
  {
   "cell_type": "code",
   "execution_count": 130,
   "metadata": {},
   "outputs": [
    {
     "name": "stdout",
     "output_type": "stream",
     "text": [
      "The model predicts: No PCOS\n"
     ]
    }
   ],
   "source": [
    "def predict_new_data(new_data):\n",
    "    # Ensure new data is in the correct format (DataFrame) with selected features\n",
    "    new_data_df = pd.DataFrame([new_data], columns=selected_features)\n",
    "\n",
    "    # Make prediction using the trained model\n",
    "    prediction = rf.predict(new_data_df)\n",
    "    return prediction\n",
    "\n",
    "new_data_point = {\n",
    "    'Age': 30,                      \n",
    "    'Weight (in Kg)': 60.0,         \n",
    "    'Height': 165.0,                 \n",
    "    'blood group': 13,               \n",
    "    'MenstrualCycleRegularity': 1,   \n",
    "    'RecentWeightChange': 0,        \n",
    "    'Hirsutism': 0,                 \n",
    "    'SkinDarkening': 0,              \n",
    "    'HairLoss': 0,                   \n",
    "    'Acne': 0,                     \n",
    "    'FastFoodConsumption': 1,     \n",
    "    'ExerciseRegularity': 1,         \n",
    "    'MoodSwings': 0,                 \n",
    "    'PeriodDuration': 6              \n",
    "}\n",
    "\n",
    "\n",
    "# Predict the output for the new data point\n",
    "prediction = predict_new_data(new_data_point)\n",
    "\n",
    "# Output the prediction\n",
    "if prediction == 0:\n",
    "    print(\"The model predicts: No PCOS\")\n",
    "else:\n",
    "    print(\"The model predicts: PCOS\")"
   ]
  },
  {
   "cell_type": "code",
   "execution_count": 131,
   "metadata": {},
   "outputs": [
    {
     "data": {
      "image/png": "[encoded data removed]",
      "text/plain": [
       "<Figure size 700x500 with 2 Axes>"
      ]
     },
     "metadata": {},
     "output_type": "display_data"
    }
   ],
   "source": [
    "from sklearn.metrics import confusion_matrix\n",
    "import seaborn as sns\n",
    "import matplotlib.pyplot as plt\n",
    "\n",
    "# Generate confusion matrix\n",
    "cm = confusion_matrix(y_test, rf.predict(X_test_selected))\n",
    "\n",
    "# Plot confusion matrix\n",
    "plt.figure(figsize=(7, 5))\n",
    "sns.heatmap(cm, annot=True, fmt='d', cmap='Blues', xticklabels=['No PCOS', 'PCOS'], yticklabels=['No PCOS', 'PCOS'])\n",
    "plt.title('Confusion Matrix')\n",
    "plt.xlabel('Predicted')\n",
    "plt.ylabel('Actual')\n",
    "plt.show()\n"
   ]
  },
  {
   "cell_type": "code",
   "execution_count": 132,
   "metadata": {},
   "outputs": [
    {
     "data": {
      "image/png": "[encoded data removed]",
      "text/plain": [
       "<Figure size 640x480 with 1 Axes>"
      ]
     },
     "metadata": {},
     "output_type": "display_data"
    }
   ],
   "source": [
    "sns.countplot(x='PCOS', data=df)\n",
    "plt.title('Distribution of PCOS')\n",
    "plt.xlabel('PCOS (0: No, 1: Yes)')\n",
    "plt.ylabel('Count')\n",
    "plt.show()\n"
   ]
  }
 ],
 "metadata": {
  "kernelspec": {
   "display_name": "Python 3",
   "language": "python",
   "name": "python3"
  },
  "language_info": {
   "codemirror_mode": {
    "name": "ipython",
    "version": 3
   },
   "file_extension": ".py",
   "mimetype": "text/x-python",
   "name": "python",
   "nbconvert_exporter": "python",
   "pygments_lexer": "ipython3",
   "version": "3.13.0"
  }
 },
 "nbformat": 4,
 "nbformat_minor": 2
}
